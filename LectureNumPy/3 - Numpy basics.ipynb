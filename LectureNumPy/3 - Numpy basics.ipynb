{
 "cells": [
  {
   "cell_type": "markdown",
   "metadata": {},
   "source": [
    "# Numpy Basics \n",
    "\n",
    "In this notebook we introduce the [numpy](http://www.numpy.org/) module. It is perhaps the most widely used library for scientific computing in Python. Many other libraries like the pandas library used in data analysis and the SciPy ecosystem are built on top of it. \n",
    "\n",
    "Perhaps the main feature of the numpy library is the multidimensional array data structure. Contrary to lists and  other iterable types we have seen, numpy arrays were specially designed with linear algebra in mind. This means that all the usual operations from linear algebra are already implemented in numpy with performance and practicality in mind. Let us consider our first example to illustrate this.\n",
    "\n",
    "```python\n",
    "import numpy as np\n",
    "myFirstList = [1,2,3,4]\n",
    "mySecondList = [7,8,9,10]\n",
    "plusList = myFirstList + mySecondList\n",
    "myFirstNumpyArray = np.array(myFirstList)\n",
    "mySecondNumpyArray = np.array(mySecondList)\n",
    "plusNumpyArray = myFirstNumpyArray + mySecondNumpyArray\n",
    "print(\"Using + with lists: {} + {} = {}\".format(myFirstList, mySecondList, plusList))\n",
    "print(\"Using + with numpy arrays: {} + {} = {}\".format(myFirstNumpyArray, mySecondNumpyArray, plusNumpyArray))\n",
    "```\n",
    "\n",
    "In the example above, note the line `import numpy as np`. This is the usual way people import the numpy library in planet Earth. You should also pay special attention to the line `myFirstNumpyArray = np.array(myFirstList)`. It summarizes the usual way we create numpy arrays: passing a list as argument to the function `np.array()`, as below.\n",
    "\n",
    "```python\n",
    "myArray = np.array(myList)\n",
    "```\n",
    "\n"
   ]
  },
  {
   "cell_type": "markdown",
   "metadata": {},
   "source": [
    "#### 1. Vector addition with numpy.\n",
    "\n",
    "Run the code above and compare the behavior of the `+` operation with lists and numpy arrays. "
   ]
  },
  {
   "cell_type": "code",
   "execution_count": null,
   "metadata": {
    "collapsed": false
   },
   "outputs": [],
   "source": []
  },
  {
   "cell_type": "markdown",
   "metadata": {},
   "source": [
    "As you have seen, lists have a computer science bias. They store data, and the \"+\" operator simply means storing more stuff. The numpy array on the other hand impersonates the physicist's favorite tool: the vector. For numpy arrays, \"+\" is simply vector addition. And indeed, this reasoning goes much further. We can do to numpy arrays pretty much everything we would do to vectors and get the results we intuitively expect. "
   ]
  },
  {
   "cell_type": "markdown",
   "metadata": {},
   "source": [
    "#### Exercise 2. Vector multiplication by a scalar. \n",
    "Multiply the numpy array `np.array([1,2,3,4])` by 4."
   ]
  },
  {
   "cell_type": "code",
   "execution_count": 3,
   "metadata": {
    "collapsed": false
   },
   "outputs": [],
   "source": [
    "#Remember to import numpy as np!"
   ]
  },
  {
   "cell_type": "markdown",
   "metadata": {},
   "source": [
    "#### Exercise 3. Yet more vectorized operations.\n",
    "Let `a = np.array([1,2,3,4])`, b = `np.array([5,6,7,8])`. Compute `a*b`, `2**a`, `a**2`, `a**b`"
   ]
  },
  {
   "cell_type": "code",
   "execution_count": null,
   "metadata": {
    "collapsed": false
   },
   "outputs": [],
   "source": []
  },
  {
   "cell_type": "markdown",
   "metadata": {},
   "source": [
    "By now you should already have a good intuitive ideia about how numpy arrays work. We can further demonstrate their convenience with more examples from linear algebra. Suppose we want to transpose a matrix, say \n",
    "\n",
    "\\begin{equation}\n",
    "A = \\begin{bmatrix}\n",
    "1 & 2 \\\\\n",
    "3 & 4 \\\\\n",
    "5 & 6 \\\\\n",
    "\\end{bmatrix}\n",
    "\\end{equation}\n",
    "\n",
    "Without numpy, we could do something like this.\n",
    "```python\n",
    "def transpose(aMatrix):\n",
    "    \"\"\"\n",
    "    Returns the transpose of a matrix\n",
    "    \n",
    "    aMatrix: a list of embedded lists representing a matrix.\n",
    "    \"\"\"\n",
    "    transp = []\n",
    "    for column in range(len(aMatrix[0])):\n",
    "        columnVector = []\n",
    "        for line in range(len(aMatrix)):\n",
    "            columnVector += [aMatrix[line][column]]\n",
    "        transp += [columnVector]\n",
    "    return transp\n",
    "a = [[1,2], [3,4], [5,6]]\n",
    "print(\"This is a: \", a)\n",
    "print(\"This is a transposed: \", transpose(a))\n",
    "transpose(a)\n",
    "```"
   ]
  },
  {
   "cell_type": "markdown",
   "metadata": {},
   "source": [
    "There are many other ways to do this with lists in Python, of course. But we could otherwise use numpy and simply write\n",
    "\n",
    "```python\n",
    "a = np.array([[1,2], [3,4], [5,6]])\n",
    "a.transpose()\n",
    "```\n"
   ]
  },
  {
   "cell_type": "markdown",
   "metadata": {},
   "source": [
    "#### Exercise 4.  How would you write the transpose function with list comprehensions?"
   ]
  },
  {
   "cell_type": "code",
   "execution_count": null,
   "metadata": {
    "collapsed": false
   },
   "outputs": [],
   "source": []
  },
  {
   "cell_type": "markdown",
   "metadata": {},
   "source": [
    "#### Exercise 5. The dot product.\n",
    "The dot (or inner) product of two vectors is found virtually everywhere in science. The usual definition in $\\mathbb{R}^n$ in terms of orthonormal vector components $u = (u_0,... ,u_{n-1})$ is $u\\cdot v = \\sum_{i=0}^{n-1} u_iv_i$. This type of operation in which indices are contracted are far more general, though. As another example, the matrix product of two matrices $A = [A_{ij}]$ and $B = [B_{ij}]$ is given by $[A\\cdot B]_{ij} = \\sum_{k=0}^{n-1}A_{ik}B_{kj}$. Evidently, we assume that the number of columns in $A$ is identical to the number of lines in $B$. In what follows, implement code that computes the dot and matrix products with lists. "
   ]
  },
  {
   "cell_type": "code",
   "execution_count": 13,
   "metadata": {
    "collapsed": false
   },
   "outputs": [],
   "source": [
    "import numpy as np\n",
    "import time\n",
    "import matplotlib.pyplot as plt\n",
    "def dot_product(vector1, vector2):\n",
    "    \"\"\"\n",
    "    Returns the dot product of two vectors. The vectors are assumed to have\n",
    "    same length.\n",
    "    \n",
    "    vector1: an iterable.\n",
    "    vector2: another iterable.\n",
    "    \n",
    "    \"\"\"\n",
    "    dotProduct = 0\n",
    "    for i in range(len(vector1)):\n",
    "        dotProduct += vector1[i]*vector2[i]\n",
    "    return dotProduct\n",
    "\n",
    "def matrix_product(matrix1, matrix2):\n",
    "    \"\"\"\n",
    "    Returns the matrix product of two matrices. The number of columns in \n",
    "    matrix1 is equal to the number of lines in matrix2.\n",
    "    \n",
    "    matrix1: A list of embedded lists.\n",
    "    matrix2: Another list of embedded lists.\n",
    "    \n",
    "    \"\"\"\n",
    "    productMatrix = []\n",
    "    for line in matrix1:\n",
    "        productMatrixLine = []\n",
    "        for column in transpose(matrix2):\n",
    "            productMatrixLine.append(dot_product(line,column))\n",
    "        productMatrix.append(productMatrixLine)\n",
    "    return productMatrix\n",
    "    \n"
   ]
  },
  {
   "cell_type": "markdown",
   "metadata": {},
   "source": [
    "#### Exercise 6. Benchmarking our code against numpy.\n",
    "The code below compares the performance of our homemade `dot_product()` against numpy's `np.dot()` (you can find the documentation on this function [here](https://docs.scipy.org/doc/numpy-1.13.0/reference/generated/numpy.dot.html)).  Run it and then do the same with our homemade `matrix_product()` against numpy's  `np.dot()`. Use square matrices. Could you have predicted the shapes of the resulting curves in both comparisons? \n",
    "\n",
    "```python\n",
    "# We now time the performance of dot_product() against np.dot().\n",
    "# We sample two arrays from the random uniform distribution in [0,1),\n",
    "# with sizes ranging from 4 to 10000 in steps of 4.\n",
    "\n",
    "def benchmark(aFunction, firstArg, secondArg, numberOfTests = 1):\n",
    "    \"\"\"\n",
    "    Returns the best (that is, the least) processing time spent by a function  \n",
    "    that takes two arguments.\n",
    "    \n",
    "    aFunction: The function whose performance we are measuring. It takes two arguments.\n",
    "    firstArg: The first argument of aFunction\n",
    "    secondArg: The second argument of aFunction\n",
    "    numberOfTests: The number of times we compute \n",
    "                   aFunction(firstArg, secondArg)\n",
    "    \"\"\"\n",
    "    timesTaken = []\n",
    "    for i in range(numberOfTests):\n",
    "        start = time.time()\n",
    "        aFunction(firstArg, secondArg)\n",
    "        end = time.time()\n",
    "        timesTaken.append(end-start)\n",
    "    return min(timesTaken)\n",
    "\n",
    "\n",
    "dotProductTimes = []\n",
    "npDotTimes = []\n",
    "for size in range(10, 10000, 10):\n",
    "    array1 = np.random.uniform(size = size)\n",
    "    array2 = np.random.uniform(size = size)\n",
    "    list1 = list(array1)\n",
    "    list2 = list(array2)\n",
    "    timeDotProduct =  benchmark(dot_product, list1, list2,numberOfTests=10)\n",
    "    timeNpDot = benchmark(np.dot, array1, array2, numberOfTests=10)\n",
    "    dotProductTimes.append(timeDotProduct)\n",
    "    npDotTimes.append(timeNpDot)\n",
    "plt.plot(dotProductTimes, color = \"blue\", label = \"dot_product()\")\n",
    "plt.plot(npDotTimes, color = \"red\", label = \"np.dot()\")\n",
    "plt.title(\"Time spent computing dot products.\")\n",
    "plt.xlabel(\"vector size\")\n",
    "plt.ylabel(\"Time\")\n",
    "plt.legend()\n",
    "plt.show()\n",
    "```"
   ]
  },
  {
   "cell_type": "code",
   "execution_count": null,
   "metadata": {
    "collapsed": false
   },
   "outputs": [],
   "source": []
  },
  {
   "cell_type": "markdown",
   "metadata": {},
   "source": [
    "#### Exercise 7. p-norms.\n",
    "In mathematical analysis we often use the concept of [normed spaces](https://en.wikipedia.org/wiki/Normed_vector_space). Of particular interest are p-norms (also called $l_p$-norms) in $\\mathbb{R}^n$, defined by\n",
    "\n",
    "\\begin{equation}\n",
    "||\\textbf{x}||_p = \\bigg(\\sum_{i=0}^{n-1}|x_i|^p\\bigg)^{\\frac{1}{p}}\n",
    "\\end{equation}\n",
    "\n",
    "where $\\textbf{x} = (x_0,...,x_{n-1})$ is a vector in $\\mathbb{R}^n$. Particular examples of p-norms are the taxicab norm (also called Manhattan norm) with $p = 1$ and the usual Euclidian norm with $p = 2$. \n",
    "We can also define the maximum norm (also called the supremum norm or infinity norm) by \n",
    "\n",
    "\\begin{equation}\n",
    "||\\textbf{x}||_p = \\text{max}(|x_0|,...|x_{n-1}|).\n",
    "\\end{equation}\n",
    "\n",
    "For each of these norms, we can of define unit circles by the equation\n",
    "\\begin{equation}\n",
    "||\\textbf{x}||_p = 1.\n",
    "\\end{equation}\n",
    "\n",
    "Let us focus in the two-dimensional space $\\mathbb{R}^2$. Plot in the same figure the unit circles corresponding to $p = 1, 2, 4, 16, \\infty$."
   ]
  },
  {
   "cell_type": "code",
   "execution_count": null,
   "metadata": {
    "collapsed": true
   },
   "outputs": [],
   "source": []
  },
  {
   "cell_type": "markdown",
   "metadata": {},
   "source": [
    "#### Exercise 8. Shapes of arrays.\n",
    "\n",
    "An important attribute of numpy arrays is their [shape](https://docs.scipy.org/doc/numpy-1.13.0/reference/generated/numpy.ndarray.shape.html). Compute the shapes of the following arrays.\n",
    "\n",
    "```python\n",
    "a = np.array([1,2,3,4])\n",
    "b = np.array([[1,2],[3,4],[5,6]])\n",
    "c = np.array([[[1,2,3,4], [5,6,7,8], [9,10,11,12]], [[13,14,15,16], [17,18,19,20], [21,22,23,24]]])\n",
    "```"
   ]
  },
  {
   "cell_type": "code",
   "execution_count": null,
   "metadata": {
    "collapsed": false
   },
   "outputs": [],
   "source": []
  },
  {
   "cell_type": "markdown",
   "metadata": {},
   "source": [
    "We now briefly discuss four nice features of numpy: vectorization, broadcasting, array indexing and boolean masks. These will prove invaluable for many numerical tasks we shall encounter later."
   ]
  },
  {
   "cell_type": "markdown",
   "metadata": {},
   "source": [
    "## Vectorization\n",
    "The numpy library was designed with support for [array programming](https://en.wikipedia.org/wiki/Array_programming) in mind. This means that numpy functions that apply to scalars can usually be used with arrays without the need of loops. Such functions are often said to be vectorized and usually result in performance gains when compared to loops. A typical example is the task of adding all the elements of an array. With a `for` loop, we would write something like\n",
    "\n",
    "\n",
    "```python\n",
    "myArray = np.arange(1,101)\n",
    "total = 0\n",
    "for element in myArray:\n",
    "    total += element\n",
    "``` \n",
    "This can be compared with the simplicity of the `np.sum()` function:\n",
    "```python\n",
    "total = np.sum(myArray)\n",
    "```\n",
    "\n",
    "As we have discussed in the beginning of this notebook, all familiar operations like `+`, `*`, `/`, `//`, `**` are vectorized in numpy. But that is not all. Most [mathematical functions](https://docs.scipy.org/doc/numpy/reference/routines.math.html) in numpy are. The general process of vectorization works as \n",
    "\n",
    "\\begin{equation}\n",
    "f\\big ((v_1,...,v_n)\\big ) = \\big (f(v_1),..., f(v_n) \\big).\n",
    "\\end{equation}\n",
    "\n",
    "As an example, below we generate an array of 7 equally spaced points in a circumference and compute their cosines.\n",
    "\n",
    "```python\n",
    "angles = np.linspace(0,2*np.pi, 7)\n",
    "cosines = np.cos(angles)\n",
    "print(\"angles: \", angles)\n",
    "print(\"cosines: \", cosines)\n",
    "```\n"
   ]
  },
  {
   "cell_type": "markdown",
   "metadata": {},
   "source": [
    "#### Exercise 9. Vectorizing functions.\n",
    "\n",
    "Often the functions we want to apply to arrays are functions we ourselves create. These are not vectorized by nature. The good news is that numpy has a commodity function `np.vectorize()` that vectorizes other functions. It works like this.\n",
    "```python\n",
    "myVectorizedFunction = np.vectorize(myFunction)\n",
    "```\n",
    "Together with python's [lambda]() expressions for defining anonymous functions, it can save us lines of code. \n",
    "As an example, the two pieces of code below are equivalent.\n",
    "```python\n",
    "def myFunction(x):\n",
    "    return x+3\n",
    "myVectorizedFunction = np.vectorize(myFunction)\n",
    "myArray = np.linspace(0,10,11)\n",
    "result = myVectorizedFunction(myArray)\n",
    "print(\"Result with standard function definition: \", result)\n",
    "```\n",
    "is equivalent to\n",
    "\n",
    "```python\n",
    "myVectorizedFunction = np.vectorize(lambda x: x + 3)\n",
    "myArray = np.linspace(0,10,11)\n",
    "result = myVectorizedFunction(myArray)\n",
    "print(\"Result with lambda expression: \", result)\n",
    "```\n",
    "\n",
    "Your task is to vectorize the [bitwise NOT](https://en.wikipedia.org/wiki/Bitwise_operation#NOT). We can think of this operation as the following map\n",
    "\n",
    "\\begin{equation}\n",
    "\\text{Not}(x) = \\begin{cases} 1 \\qquad \\text{if } x =0\\\\\n",
    "0 \\qquad \\text{if } x=1.\n",
    "\\end{cases}\n",
    "\\end{equation}\n",
    "\n",
    "Complete the missing steps below.\n"
   ]
  },
  {
   "cell_type": "code",
   "execution_count": 40,
   "metadata": {
    "collapsed": false
   },
   "outputs": [],
   "source": [
    "def bit_not(aBit):\n",
    "    \n",
    "    \"\"\"\n",
    "    Returns Not(aBit) as defined above.\n",
    "    \n",
    "    aBit: int, 0 or 1 \n",
    "    \n",
    "    \"\"\"\n",
    "    pass\n",
    "\n",
    "###Vectorize your function below\n",
    "\n",
    "\n",
    "###Test your function in the following array\n",
    "aBin = np.array(list(bin(ord('a'))[2:])).astype(int)\n",
    "\n"
   ]
  },
  {
   "cell_type": "markdown",
   "metadata": {},
   "source": [
    "## Broadcasting\n",
    "A particularly useful feature of numpy arrays is [broadcasting](https://docs.scipy.org/doc/numpy/user/basics.broadcasting.html). This is the ability to operate with arrays of different dimensions. As a first example, how would we add the same number to all entries of an array?\n",
    "\n",
    "```python\n",
    "myArray = np.array([1,2,3])\n",
    "myInt = 10\n",
    "myNewArray = myArray + myInt\n",
    "print(myNewArray)\n",
    "```"
   ]
  },
  {
   "cell_type": "markdown",
   "metadata": {
    "collapsed": true
   },
   "source": [
    "Numpy therefore understands our intention here: by adding a number to an array, we mean adding this number to all entries in the array. We thus optimize our code by avoiding an iteration.  Let us consider a second example.\n",
    "\n",
    "```python\n",
    "array1 = np.array([[1,2,3],[4,5,6]])\n",
    "array2 = np.array([10,20,30])\n",
    "mySum = array1 + array2\n",
    "print(\"array1: \", array1)\n",
    "print(\"array2: \", array2)\n",
    "print(\"mySum = array1 + array2 \", mySum)\n",
    "\n",
    "```\n"
   ]
  },
  {
   "cell_type": "markdown",
   "metadata": {},
   "source": [
    "Again, we are operating on arrays of different shapes (`array1` is (2,1), while `array2` is (1,)). This is no problem to numpy, since it understands that the first dimension in `array1` is equal to the first (and single) dimension in `array2`: both are 3. Now let us see an example of two arrays that cannot be broadcast together. If you run the code below, you should read an error message.\n",
    "```python\n",
    "array1 = np.array([[1,2,3],[4,5,6]])\n",
    "array3 = np.array([10,20])\n",
    "mySum = array1 + array3\n",
    "```\n"
   ]
  },
  {
   "cell_type": "markdown",
   "metadata": {},
   "source": [
    "We see that numpy considers `array3` as a line vector with two components. Since `array1` can be seen as a 2X3 matrix, each line in `array1` has three components. So we see what the problem is: we cannot add vectors with two components to vectors with three components. Pretty intuitive. But what if I wanted to add `array3` to `array1` columnwise? Could we just transpose `array3` and achieve that? Let us test it.\n",
    "\n",
    "```python\n",
    "mySum = array1 + np.transpose(array3)\n",
    "\n",
    "```\n",
    "\n"
   ]
  },
  {
   "cell_type": "markdown",
   "metadata": {},
   "source": [
    "No deal again! In order two operate on two arrays, it is required that they have compatible dimensions. From the [documentation](https://docs.scipy.org/doc/numpy/user/basics.broadcasting.html#general-broadcasting-rules), two dimensions are compatible when\n",
    "\n",
    "   1. they are equal, or\n",
    "   2. one of them is 1.\n",
    "\n",
    "We can understand what this means by checking the `shape` attribute of arrays `array1`, `array2` and `array3`. Let's do this.\n",
    "\n",
    "```python\n",
    "print(\"array1: \", array1, \"Shape of array1: \", array1.shape)\n",
    "print(\"array2: \", array2, \"Shape of array2: \", array2.shape)\n",
    "print(\"array3: \", array3, \"Shape of array3: \", array3.shape)\n",
    "```\n",
    " "
   ]
  },
  {
   "cell_type": "markdown",
   "metadata": {
    "collapsed": true
   },
   "source": [
    "#### Exercise 10. Add `array3` to `array1` columnwise.\n",
    "\n",
    "How would you add `array3` to `array1` columnwise in the previous example? (Hint: you might want to look at [np.reshape](https://docs.scipy.org/doc/numpy-1.13.0/reference/generated/numpy.reshape.html)) "
   ]
  },
  {
   "cell_type": "code",
   "execution_count": null,
   "metadata": {
    "collapsed": false
   },
   "outputs": [],
   "source": []
  },
  {
   "cell_type": "markdown",
   "metadata": {},
   "source": [
    "#### Exercise 11. Create the following arrays in numpy and guess their shape. \n",
    "You can always check your answer using the shape attribute. \n",
    "\\begin{equation}\n",
    "A = \\begin{bmatrix}\n",
    "\\begin{bmatrix}\n",
    "1 & 2\\\\\n",
    "3 & 4\n",
    "\\end{bmatrix} & \\begin{bmatrix}\n",
    "5 & 6\\\\\n",
    "7 & 8\n",
    "\\end{bmatrix}\n",
    "\\end{bmatrix}\n",
    "\\end{equation}\n",
    "\n",
    "\\begin{equation}\n",
    "B = \\begin{bmatrix}\n",
    "\\begin{bmatrix}\n",
    "1 & 2\\\\\n",
    "3 & 4\n",
    "\\end{bmatrix} & \\begin{bmatrix}\n",
    "5 & 6\\\\\n",
    "7 & 8\n",
    "\\end{bmatrix}\\\\\n",
    "\\begin{bmatrix}\n",
    "11 & 12\\\\\n",
    "13 & 14\n",
    "\\end{bmatrix} & \\begin{bmatrix}\n",
    "15 & 16\\\\\n",
    "17 & 18\n",
    "\\end{bmatrix}\n",
    "\\end{bmatrix}\n",
    "\\end{equation}\n",
    "\n",
    "\\begin{equation}\n",
    "C = \\begin{bmatrix}\n",
    "\\begin{bmatrix}\n",
    "1 \\\\\n",
    "3 \n",
    "\\end{bmatrix} & \\begin{bmatrix}\n",
    "2 \\\\\n",
    "4 \n",
    "\\end{bmatrix} & \\begin{bmatrix}\n",
    "5 \\\\\n",
    "7 \n",
    "\\end{bmatrix} & \\begin{bmatrix}\n",
    "6 \\\\\n",
    "8 \n",
    "\\end{bmatrix}\n",
    "\\end{bmatrix}\n",
    "\\end{equation}\n",
    "\n",
    "\\begin{equation}\n",
    "D = \\begin{bmatrix}\n",
    "\\begin{bmatrix}\n",
    "1 \\\\\n",
    "3 \n",
    "\\end{bmatrix} & \\begin{bmatrix}\n",
    "2 \\\\\n",
    "4 \n",
    "\\end{bmatrix} & \\begin{bmatrix}\n",
    "5 \\\\\n",
    "7 \n",
    "\\end{bmatrix} &  \\begin{bmatrix}\n",
    "6 \\\\\n",
    "8 \n",
    "\\end{bmatrix} \\\\\n",
    "\\begin{bmatrix}\n",
    "11\\\\\n",
    "13\n",
    "\\end{bmatrix} & \\begin{bmatrix}\n",
    "12\\\\\n",
    "14\n",
    "\\end{bmatrix} & \\begin{bmatrix}\n",
    "15\\\\\n",
    "17\n",
    "\\end{bmatrix} & \\begin{bmatrix}\n",
    "16\\\\\n",
    "18\n",
    "\\end{bmatrix}\n",
    "\\end{bmatrix}\n",
    "\\end{equation}"
   ]
  },
  {
   "cell_type": "markdown",
   "metadata": {},
   "source": [
    "#### Exercise 12.  Broadcasting the arrays from the previous exercise.\n",
    "If you created the arrays from the previous exercise correctly, it should be possible to broadcast $A$ to the shape of $B$ and $C$ to the shape of $D$. So numpy should be able to compute $B - A$ and $D - C$ for example. Perform these operations. Does the result agree with our intuition?"
   ]
  },
  {
   "cell_type": "code",
   "execution_count": null,
   "metadata": {
    "collapsed": true
   },
   "outputs": [],
   "source": []
  },
  {
   "cell_type": "markdown",
   "metadata": {},
   "source": [
    "## Array indexing\n",
    "\n",
    "We often want to acces elements inside an array, be it for referencing or assignment. Numpy gives us several ways to achieve this. Before we actually get to array indexing, let us quickly review [indexing](https://docs.scipy.org/doc/numpy/user/basics.indexing.html#indexing) in numpy.   The canonical way to access an element of an array by index is just passing the element's indices separated by commas between square brackets. So for example, if we want to access the number 3 in the matrix $A$ below to change it to 9,\n",
    "\n",
    "\\begin{equation}\n",
    "A = \\begin{bmatrix}\n",
    "1 & 2\\\\\n",
    "3 & 4\\\\\n",
    "\\end{bmatrix}\n",
    "\\end{equation}\n",
    "we just type\n",
    "\n",
    "```python\n",
    "A = np.array([[1,2], [3,4]])\n",
    "print(\"A before change: \", A)\n",
    "A[1,0] = 9\n",
    "print(\"A after change: \", A)\n",
    "```\n"
   ]
  },
  {
   "cell_type": "markdown",
   "metadata": {},
   "source": [
    "#### Exercise 13. Find the number 5.\n",
    "Find the number 5 in each of the arrays in exercise 11. Change it to 42."
   ]
  },
  {
   "cell_type": "code",
   "execution_count": null,
   "metadata": {
    "collapsed": true
   },
   "outputs": [],
   "source": []
  },
  {
   "cell_type": "markdown",
   "metadata": {},
   "source": [
    "Numpy also supports slicing, a feature we already saw when studying lists. This allows us to capture many elements of an array without having to write their indices explicitly. Consider the array below.\n",
    "\n",
    "\\begin{equation}\n",
    "A = \\begin{bmatrix}\n",
    "1 & 2& 3 &4\\\\\n",
    "5 & 6 & 7 &8\\\\\n",
    "9 & 10 & 11 &12\\\\\n",
    "13 & 14 &15 &16\\\\\n",
    "\\end{bmatrix}\n",
    "\\end{equation}\n",
    "\n",
    "Suppose we wanted to capture just a block of A, namely\n",
    "\\begin{equation}\n",
    "B = \\begin{bmatrix}\n",
    "1 & 2\\\\\n",
    "5 & 6\\\\\n",
    "\\end{bmatrix}\n",
    "\\end{equation}\n",
    "We can easily do this with slicing.\n",
    "\n",
    "```python\n",
    "A = np.arange(1,17).reshape(4,4)\n",
    "B = A[0:2,0:2]\n",
    "print('A: \\n', A)\n",
    "print('B: \\n', B)\n",
    "```"
   ]
  },
  {
   "cell_type": "markdown",
   "metadata": {},
   "source": [
    "Note that, just as with lists, the lower limit of a slice is inclusive, while the upper limit is exclusive. None of this is new, since lists also have these capabilities. Let us introduce then array indexing, a feature of numpy that lists don't have. We consider the following example. We are given a one dimensional array of size ten and we want to extract the elements at positions 3 and 7. We can do the following.\n",
    "```python\n",
    "myArray = np.arange(1,11)\n",
    "indexArray = np.array([3,7])\n",
    "newArray = myArray[indexArray]\n",
    "print(\"myArray: \", myArray)\n",
    "print(\"newArray: \", newArray)\n",
    "\n",
    "```\n"
   ]
  },
  {
   "cell_type": "markdown",
   "metadata": {},
   "source": [
    "Note that we have used an array (`indexArray`) as an index to another (`myArray`). The name \"array indexing\" is thus quite literal.  Indexing arrays with other arrays can be quite useful as the exercise below shows. "
   ]
  },
  {
   "cell_type": "markdown",
   "metadata": {},
   "source": [
    "#### Exercise 14. Logarithmically spaced samples.\n",
    "\n",
    "You are given a large one dimensional array whose values increase linearly with the array index. You want to take a sample from this array that is (approximatelly) logarithmicaly spaced. Code the function below that fulfills this task."
   ]
  },
  {
   "cell_type": "code",
   "execution_count": 12,
   "metadata": {
    "collapsed": false
   },
   "outputs": [],
   "source": [
    "###STOPPED HERE!!!!!!!!!#####"
   ]
  },
  {
   "cell_type": "code",
   "execution_count": 2,
   "metadata": {
    "collapsed": false
   },
   "outputs": [
    {
     "data": {
      "text/plain": [
       "array([[1, 2, 3],\n",
       "       [4, 5, 6],\n",
       "       [7, 8, 9]])"
      ]
     },
     "execution_count": 2,
     "metadata": {},
     "output_type": "execute_result"
    }
   ],
   "source": [
    "import numpy as np\n",
    "myMatrix = np.array([[1,2,3], [4,5,6], [7,8,9]])\n",
    "myMatrix"
   ]
  },
  {
   "cell_type": "markdown",
   "metadata": {},
   "source": [
    "#### Exercise 15. Using array indexing with multidimensional arrays.\n",
    "\n",
    "In this exercise we will experiment with [indexing multidimensional arrays](https://docs.scipy.org/doc/numpy/user/basics.indexing.html#indexing-multi-dimensional-arrays).  The code snippet below generates a 10x10 array.\n",
    "\n",
    "```python\n",
    "myArray = np.arange(0,100).reshape(10,10)\n",
    "print(\"This is the shape of myArray: \", myArray.shape)\n",
    "print(\"This is myArray:\\n\")\n",
    "print(myArray)\n",
    "```\n",
    "Your goal is to use array indexing to generate the following subArray:\n",
    "\n",
    "```python\n",
    "subArray = np.array([[myArray[3,3], myArray[3,4], myArray[3,5]], [myArray[4,3], myArray[4,4], myArray[4,5]], \\\n",
    "                    [myArray[5,3], myArray[5,4], myArray[5,5]]])\n",
    "print(\"\\n\")\n",
    "print(\"This is subArray: \\n\")\n",
    "print(subArray)\n",
    "``` \n",
    "\n"
   ]
  },
  {
   "cell_type": "code",
   "execution_count": 18,
   "metadata": {
    "collapsed": false
   },
   "outputs": [
    {
     "name": "stdout",
     "output_type": "stream",
     "text": [
      "This is the shape of myArray:  (10, 10)\n",
      "This is myArray:\n",
      "\n",
      "[[ 0  1  2  3  4  5  6  7  8  9]\n",
      " [10 11 12 13 14 15 16 17 18 19]\n",
      " [20 21 22 23 24 25 26 27 28 29]\n",
      " [30 31 32 33 34 35 36 37 38 39]\n",
      " [40 41 42 43 44 45 46 47 48 49]\n",
      " [50 51 52 53 54 55 56 57 58 59]\n",
      " [60 61 62 63 64 65 66 67 68 69]\n",
      " [70 71 72 73 74 75 76 77 78 79]\n",
      " [80 81 82 83 84 85 86 87 88 89]\n",
      " [90 91 92 93 94 95 96 97 98 99]]\n",
      "\n",
      "\n",
      "This is subArray: \n",
      "\n",
      "[[33 34 35]\n",
      " [43 44 45]\n",
      " [53 54 55]]\n"
     ]
    }
   ],
   "source": [
    "myArray = np.arange(0,100).reshape(10,10)\n",
    "print(\"This is the shape of myArray: \", myArray.shape)\n",
    "print(\"This is myArray:\\n\")\n",
    "print(myArray)\n",
    "\n",
    "subArray = np.array([[myArray[3,3], myArray[3,4], myArray[3,5]], [myArray[4,3], myArray[4,4], myArray[4,5]], \\\n",
    "                    [myArray[5,3], myArray[5,4], myArray[5,5]]])\n",
    "print(\"\\n\")\n",
    "print(\"This is subArray: \\n\")\n",
    "print(subArray)"
   ]
  },
  {
   "cell_type": "code",
   "execution_count": 26,
   "metadata": {
    "collapsed": false
   },
   "outputs": [
    {
     "data": {
      "text/plain": [
       "array([[33, 34, 35],\n",
       "       [43, 44, 45],\n",
       "       [53, 54, 55]])"
      ]
     },
     "execution_count": 26,
     "metadata": {},
     "output_type": "execute_result"
    }
   ],
   "source": [
    "indices = np.array([3,4,5])\n",
    "myArray[indices][:,3:6]"
   ]
  },
  {
   "cell_type": "code",
   "execution_count": null,
   "metadata": {
    "collapsed": true
   },
   "outputs": [],
   "source": [
    "index = np.array([])"
   ]
  },
  {
   "cell_type": "markdown",
   "metadata": {},
   "source": [
    "## Boolean masks\n",
    "\n",
    "Numpy has a very powerful indexing tool based on boolean arrays called [boolean masks](https://docs.scipy.org/doc/numpy/user/basics.indexing.html#boolean-or-mask-index-arrays). It is similar to vectorization, but now it is a boolean operator that is being vectorized. Assume we have a boolean function $b(x)$ that evaluates to True or False. The vectorization process then yields\n",
    "\n",
    "\\begin{equation}\n",
    "b(v_1, ..., v_n) = \\big(b(v_1),..., b(v_n)  \\big)\n",
    "\\end{equation}\n",
    "\n",
    "Thus, we get as a result a boolean array with entries equal to true wherever $b$ evaluates to True in the given array, and False otherwise. As a simple example, run the code below.\n",
    "\n",
    "```python\n",
    "myArray = np.array([1,2,3,4,5])\n",
    "myBooleanArray = myArray > 3\n",
    "print(\"myArray: \", myArray)\n",
    "print(\"myBooleanArray: \", myBooleanArray)\n",
    "\n",
    "```"
   ]
  },
  {
   "cell_type": "code",
   "execution_count": 27,
   "metadata": {
    "collapsed": false
   },
   "outputs": [
    {
     "name": "stdout",
     "output_type": "stream",
     "text": [
      "myArray:  [1 2 3 4 5]\n",
      "myBooleanArray:  [False False False  True  True]\n"
     ]
    }
   ],
   "source": [
    "myArray = np.array([1,2,3,4,5])\n",
    "myBooleanArray = myArray > 3\n",
    "print(\"myArray: \", myArray)\n",
    "print(\"myBooleanArray: \", myBooleanArray)"
   ]
  },
  {
   "cell_type": "markdown",
   "metadata": {},
   "source": [
    "The beautiful thing about boolean arrays is that they can be used for indexing. If we pass a boolean array as an index to a given array of same shape, the result is a new array consisting only of the elements where the boolean array is True.  This is what we call a boolean mask. Using our previous example, let us create a new array from `myArray` applying the boolean mask `myBooleanArray`. \n",
    "\n",
    "```python\n",
    "newArray = myArray[myBooleanArray]\n",
    "print(\"newArray: \", newArray)\n",
    "```"
   ]
  },
  {
   "cell_type": "markdown",
   "metadata": {
    "collapsed": true
   },
   "source": [
    "#### Exercise 16. Find the even elements of an array.\n",
    "Write a function that takes an integer array as input and returns a boolean array that tells us where its even elements are. \n"
   ]
  },
  {
   "cell_type": "code",
   "execution_count": null,
   "metadata": {
    "collapsed": true
   },
   "outputs": [],
   "source": []
  },
  {
   "cell_type": "markdown",
   "metadata": {},
   "source": [
    "#### Exercise 17.  Logical operations with arrays.\n",
    "\n",
    "The process of boolean masking can be seen as creating filters that we put over arrays so that only entries satisfying the filters' conditions pass through. Since these are actually logical filters, we can think of composing them using logical operations. Intuitively, we expect that something like this should work.\n",
    "\n",
    "```Python\n",
    "a = np.array([[True, False], [False, True]])\n",
    "b = np.array([[True, True], [False, False]])\n",
    "print(\"This is a: \", a)\n",
    "print(\"This is b: \", b)\n",
    "```\n",
    "Then we could try\n",
    "\n",
    "```Python\n",
    "c = a and b\n",
    "print(\"This is c: \\n\", c)\n",
    "```\n",
    "As you should see by yourself, this does not work. How would you achieve the same purpose? What about the logical `or` operator?"
   ]
  },
  {
   "cell_type": "code",
   "execution_count": null,
   "metadata": {
    "collapsed": false
   },
   "outputs": [],
   "source": []
  },
  {
   "cell_type": "markdown",
   "metadata": {},
   "source": [
    "Other particularly useful logical operations built into numpy are the [all](https://docs.scipy.org/doc/numpy-1.13.0/reference/generated/numpy.all.html), [any](https://docs.scipy.org/doc/numpy-1.13.0/reference/generated/numpy.any.html) and [where](https://docs.scipy.org/doc/numpy-1.13.0/reference/generated/numpy.where.html) functions. The meaning of these words in english should give you a good idea of what they do. In any case, an example will come in handy.\n",
    "\n",
    "```python\n",
    "a = np.array([True, False, True])\n",
    "b = np.array([False, False, False])\n",
    "c = np.array([True, True, True])\n",
    "\n",
    "print(\"This is a: \", a)\n",
    "print(\"This is b: \", b)\n",
    "print(\"This is c: \", c)\n",
    "```\n",
    "\n",
    "We now test where are the `True` values of `a`, whether any value of `b` is `True`, and whether all values of `c` are `True`.\n",
    "\n",
    "```python\n",
    "print(\"Where are the True values of a? \", np.where(a))\n",
    "print(\"Is there any True value in b? \", np.any(b))\n",
    "print(\"Are all values in c True? \", np.all(c))\n",
    "\n",
    "```\n",
    "\n"
   ]
  },
  {
   "cell_type": "code",
   "execution_count": null,
   "metadata": {
    "collapsed": false
   },
   "outputs": [],
   "source": []
  },
  {
   "cell_type": "markdown",
   "metadata": {},
   "source": [
    "#### Exercise 18. Find common divisors.\n",
    "\n",
    "You are given a very large array of integer numbers (call it `intArray`) and a tuple of positive integers (call it `divisors`). Your task is to find where in `intArray` are the numbers that are divided by all of those in `divisors`. Write a function that performs this task. Your function should return a dictionary whose keys are the indices of the desired elements of `intArray` and whose values should be these elements."
   ]
  },
  {
   "cell_type": "code",
   "execution_count": 45,
   "metadata": {
    "collapsed": false
   },
   "outputs": [],
   "source": [
    "def find_common_multiples(intArray, divisors):\n",
    "    \"\"\"\n",
    "    Returns a dictionary whose keys are the entries in intArray corresponding to elements \n",
    "    that are divided by all numbers in divisors.\n",
    "\n",
    "    intArray: a numpy int array \n",
    "    divisors: a tuple containing positive integers \n",
    "    \"\"\"\n",
    "    pass"
   ]
  },
  {
   "cell_type": "markdown",
   "metadata": {},
   "source": [
    "#### Exercise 19. Tic-tac-toe.\n",
    "\n",
    "In this exercise we will write a program that plays [tic-tac-toe](https://en.wikipedia.org/wiki/Tic-tac-toe) with itself randomly. This will be a good opportunity for you to use many of the numpy array features we have seen up to this point. We set up the game as follows. The game starts with a 3x3 grid filled with zeros. The value 0 means that the corresponding spot in the grid is free. The game proceeds with player 1 placing a 1 in a free spot of her taste. Then player two places a 2 in a free spot of her own taste and so on. At every move, your program must check if the game must continue or not, either because there is no free spot anymore or one of the players has won. We have done some of the work for you. Fill in the missing steps. \n",
    "\n"
   ]
  },
  {
   "cell_type": "code",
   "execution_count": 2,
   "metadata": {
    "collapsed": true
   },
   "outputs": [],
   "source": [
    "import numpy as np\n",
    "def start_new_game():\n",
    "    \"\"\"\n",
    "    Returns a 3x3 numpy array filled with zeros.\n",
    "    \"\"\"\n",
    "    #Your code here!\n",
    "    pass\n",
    "\n",
    "\n",
    "def check_rows(board, player):\n",
    "    \"\"\"\n",
    "    Checks whether any of the rows is completely filled with 1 or 2. \n",
    "    Returns True if game should continue, False otherwise.\n",
    "    \n",
    "    aBoard: a 3x3 numpy array representing the current status of a tic-tac-toe match.\n",
    "    player: 1 or 2.\n",
    "    \"\"\"\n",
    "    #Your code here!\n",
    "    pass\n",
    "    \n",
    "def check_columns(board, player):\n",
    "    \"\"\"\n",
    "    Checks whether any of the columns is completely filled with 1 or 2. \n",
    "    Returns True if game should continue, False otherwise.\n",
    "    \n",
    "    aBoard: a 3x3 numpy array representing the current status of a tic-tac-toe match.\n",
    "    player: 1 or 2.\n",
    "    \"\"\"\n",
    "    #Your code here!\n",
    "    pass\n",
    "\n",
    "def check_diagonals(board, player):\n",
    "    \"\"\"\n",
    "    Checks whether any of the diagonals is completely filled with 1 or 2. \n",
    "    Returns True if game should continue, False otherwise.\n",
    "    \n",
    "    aBoard: a 3x3 numpy array representing the current status of a tic-tac-toe match.\n",
    "    player: 1 or 2.\n",
    "    \"\"\"\n",
    "    #Your code here!\n",
    "    pass\n",
    "\n",
    "\n",
    "def check_game_status(board, player):\n",
    "    \"\"\"\n",
    "    Returns True if game should continue, false otherwise.\n",
    "    \n",
    "    board: a 3x3 numpy array representing the current status of a tic-tac-toe match.\n",
    "    player: 1 or 2.\n",
    "    (hint: use the previous functions you defined!) \n",
    "    \"\"\"\n",
    "    pass\n",
    "\n",
    "def free_spots(board, player):\n",
    "    \"\"\"\n",
    "    Returns a list containing tuples corresponding to the free spots in the board.\n",
    "    \n",
    "    board: a 3x3 numpy array representing the current status of a tic-tac-toe match.\n",
    "    player: 1 or 2.\n",
    "    \"\"\"\n",
    "    #Your code here!\n",
    "    pass\n",
    "    \n",
    "def random_player_move(board, player):\n",
    "    \"\"\"\n",
    "    Effects a move on the board due to player. Here we make the move to be random. \n",
    "    \n",
    "    board: a 3x3 numpy array representing the current status of a tic-tac-toe match.\n",
    "    player: 1 or 2.\n",
    "    \n",
    "    (hint: use the function np.random.choice on the list returned by the function free_spots)\n",
    "    \"\"\"\n",
    "    pass\n",
    "    "
   ]
  },
  {
   "cell_type": "code",
   "execution_count": 7,
   "metadata": {
    "collapsed": false
   },
   "outputs": [
    {
     "name": "stdout",
     "output_type": "stream",
     "text": [
      "True\n"
     ]
    }
   ],
   "source": [
    "a = np.array([True, True, True])\n",
    "print(np.all(a))"
   ]
  },
  {
   "cell_type": "code",
   "execution_count": 6,
   "metadata": {
    "collapsed": false
   },
   "outputs": [
    {
     "name": "stdout",
     "output_type": "stream",
     "text": [
      "7\n"
     ]
    }
   ],
   "source": [
    "x = 6\n",
    "def f():\n",
    "    return x+1\n",
    "\n",
    "z = f()\n",
    "print(z)"
   ]
  },
  {
   "cell_type": "code",
   "execution_count": 8,
   "metadata": {
    "collapsed": false
   },
   "outputs": [
    {
     "name": "stdout",
     "output_type": "stream",
     "text": [
      "[1 2 3]\n",
      "[10  2  3]\n"
     ]
    }
   ],
   "source": [
    "ar = np.array([1,2,3])\n",
    "print(ar)\n",
    "def change_array(ar):\n",
    "    ar[0] = 10\n",
    "change_array(ar)\n",
    "print(ar)"
   ]
  },
  {
   "cell_type": "code",
   "execution_count": 9,
   "metadata": {
    "collapsed": false
   },
   "outputs": [
    {
     "name": "stdout",
     "output_type": "stream",
     "text": [
      "10\n",
      "10\n"
     ]
    }
   ],
   "source": [
    "x = 10\n",
    "print(x)\n",
    "def g(x):\n",
    "    x = x+10\n",
    "g(x)\n",
    "print(x)"
   ]
  },
  {
   "cell_type": "code",
   "execution_count": 11,
   "metadata": {
    "collapsed": false
   },
   "outputs": [
    {
     "data": {
      "text/plain": [
       "array([[0, 0],\n",
       "       [1, 1]])"
      ]
     },
     "execution_count": 11,
     "metadata": {},
     "output_type": "execute_result"
    }
   ],
   "source": [
    "arr = np.array([(0,0), (1,1)])\n",
    "arr"
   ]
  },
  {
   "cell_type": "code",
   "execution_count": 12,
   "metadata": {
    "collapsed": false
   },
   "outputs": [
    {
     "data": {
      "text/plain": [
       "array([[1, 2],\n",
       "       [1, 2]])"
      ]
     },
     "execution_count": 12,
     "metadata": {},
     "output_type": "execute_result"
    }
   ],
   "source": [
    "b = np.array([[1,2], [3,4]])\n",
    "b[arr[0]]"
   ]
  },
  {
   "cell_type": "code",
   "execution_count": 30,
   "metadata": {
    "collapsed": false
   },
   "outputs": [
    {
     "data": {
      "text/plain": [
       "0"
      ]
     },
     "execution_count": 30,
     "metadata": {},
     "output_type": "execute_result"
    }
   ],
   "source": [
    "a = [(1,0), (2,0), (3,0)]\n",
    "np.random.choice(len(a))"
   ]
  },
  {
   "cell_type": "code",
   "execution_count": null,
   "metadata": {
    "collapsed": true
   },
   "outputs": [],
   "source": []
  }
 ],
 "metadata": {
  "kernelspec": {
   "display_name": "Python 3",
   "language": "python",
   "name": "python3"
  },
  "language_info": {
   "codemirror_mode": {
    "name": "ipython",
    "version": 3
   },
   "file_extension": ".py",
   "mimetype": "text/x-python",
   "name": "python",
   "nbconvert_exporter": "python",
   "pygments_lexer": "ipython3",
   "version": "3.6.0"
  }
 },
 "nbformat": 4,
 "nbformat_minor": 2
}
