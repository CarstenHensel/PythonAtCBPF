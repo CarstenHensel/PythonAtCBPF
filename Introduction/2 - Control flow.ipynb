{
 "cells": [
  {
   "cell_type": "markdown",
   "metadata": {},
   "source": [
    "# Control flow\n",
    "\n",
    "In this notebook we introduce [control flow](https://en.wikipedia.org/wiki/Control_flow) tools that will allow us to write real world code used in simulations. As their name imply, these structures determine the paths that can be taken in a particular code. Let us start with the `if/elif/else` statement.\n",
    "The example below illustrates their general structure.\n",
    "\n",
    "```python\n",
    "import random\n",
    "x = random.random()\n",
    "print(\"Random number picked in [0,1): \", x)\n",
    "if x < 1/3:\n",
    "    subinterval = \"[0,1/3)\"\n",
    "elif x < 2/3:\n",
    "    subinterval = \"[1/3,2/3)\"\n",
    "else:\n",
    "    subinterval = \"[2/3,1)\"\n",
    "print(\"x belongs to \" + subinterval)\n",
    "```\n",
    "\n"
   ]
  },
  {
   "cell_type": "markdown",
   "metadata": {},
   "source": [
    "The piece of code above uses the [random module](https://docs.python.org/3.6/library/random.html). This library contains\n",
    "implementations of pseudo-random number generators for several probability distributions. If you type `random.random()` in the interactive console, you will see that a number in the interval $[0,1)$ is printed to the screen. Thus, `random.random()` samples from the [uniform probability distribution][1] in $[0,1)$. In our code above, the number sampled is assigned to the variable `x` and a string is printed to the screen telling us what value `x` points to. What is done next depends on the value assigned to `x`. If the value sampled is less than $1/3$, the boolean expression `x < 1/3` returns `True` and the command `subinterval = \"[0,1/3)\"` is executed. If the sampled number is greater than $1/3$, the interpreter ignores the assignment in the scope of the `if` statement and tests the condition on the `elif` statement. Therefore, if the variable `x` satisfies $\\frac{1}{3}\\leq$ `x` $< \\frac{2}{3}$, the condition evaluated in the `elif` statement will return `True` and the line `subinterval = \"[1/3,2/3)\"` will be executed. On the other hand, if $\\frac{2}{3}\\leq$ `x`, both the `if` and `elif` conditions will be false and the line inside the scope of the `else` statement, `subinterval = \"[2/3,1)\"`, will be executed. After this `if/elif/else` structure, a line telling us the interval `x` belongs to is printed. You should note that you can use as many `elif` statements as you want. Of course, you are not obliged to use neither `elif` nor `else` after an `if` statement: they are optional. The general formula for Python conditional statements is summarized below.\n",
    "\n",
    "\n",
    "```python\n",
    "if boolean expression:\n",
    "    block of code\n",
    "elif another boolean expression:  #This is optional!\n",
    "    another block of code\n",
    "else:                             #This is optional too!\n",
    "    yet another block of code ```\n",
    " \n",
    "You can put these concepts in practice in the next exercises.  \n",
    "\n",
    "\n",
    " [1]: https://en.wikipedia.org/wiki/Uniform_distribution_(continuous)\n",
    "     \n"
   ]
  },
  {
   "cell_type": "markdown",
   "metadata": {},
   "source": [
    "#### Exercise 1.  Write a similar program to the example above. \n",
    "\n",
    "This time, divide the interval $[0,1)$ in five subintervals. Use print statements to check your code. "
   ]
  },
  {
   "cell_type": "code",
   "execution_count": 1,
   "metadata": {
    "collapsed": false
   },
   "outputs": [],
   "source": [
    "import random"
   ]
  },
  {
   "cell_type": "markdown",
   "metadata": {},
   "source": [
    "#### Exercise 2.  The module function.\n",
    "\n",
    "Implement and plot the module function,\n",
    "\n",
    "\\begin{equation}\n",
    "|x| = \\begin{cases}\n",
    "       x &\\text{ if } x\\geq 0,\\\\ \n",
    "       -x & \\text{ if } x < 0.\n",
    "      \\end{cases}\n",
    "\\end{equation}\n"
   ]
  },
  {
   "cell_type": "code",
   "execution_count": null,
   "metadata": {
    "collapsed": true
   },
   "outputs": [],
   "source": []
  },
  {
   "cell_type": "markdown",
   "metadata": {
    "collapsed": true
   },
   "source": [
    "#### Exercise 3. The greatest of three numbers.\n",
    "Write a function that takes in three numbers and returns the greatest one."
   ]
  },
  {
   "cell_type": "code",
   "execution_count": null,
   "metadata": {
    "collapsed": true
   },
   "outputs": [],
   "source": []
  },
  {
   "cell_type": "markdown",
   "metadata": {},
   "source": [
    "#### Exercise 4.  Full solution to the quadratic equation.\n",
    "\n",
    "The full solution to the quadratic equation $ax^2 + bx + c$ requires the use of complex numbers, so this is a great opportunity to introduce them.\n",
    "In Python the imaginary unit $i$ that squares to $-1$ is written as `1j`. We can indeed see that this is so by typing the following code.\n",
    "\n",
    "```python\n",
    "i = 1j\n",
    "print(\"Type of i: \", type(i))\n",
    "print(\"i squared: \", i**2)\n",
    "```\n",
    "\n",
    "Multiples of $i$ are obtained substituting the number 1 by the appropriate value. Thus, $3i$ becomes `3j`. We can now move on to our problem. If you want more details about the [complex type](https://docs.python.org/3.6/c-api/complex.html), you can always read the documentation. \n",
    "\n",
    "In this problem, your task is to implement the solution to the quadratic equation considering separately the three cases:\n",
    "$\\Delta > 0$, $\\Delta < 0$ and $\\Delta = 0$, where $\\Delta = b^2 - 4ac$. "
   ]
  },
  {
   "cell_type": "code",
   "execution_count": null,
   "metadata": {
    "collapsed": false
   },
   "outputs": [],
   "source": []
  },
  {
   "cell_type": "markdown",
   "metadata": {},
   "source": [
    "Now we get to the point where we will be able to write real world programs.  The data structure that will allow us to do this is the `for` loop. With loops, we will be able to solve problems of arbitrary complexity. Up to this point, we have been writing programs that run in constant time. This means that the amount of time it will take to run them is bounded by their number of lines of code. Evidently this a problem, since as complexity grows we will have to write ever more lines of code. Clearly this task will  quickly become impracticable. As an example, suppose we naively decide to compute the sum of the first $n$ natural numbers by adding them one by one. We would quickly be overwhelmed! A `for` loop does this trivially:\n",
    "\n",
    "```python\n",
    "def sum_natural_numbers(n):\n",
    "    \"\"\"\n",
    "    Sums the n first natural numbers\n",
    "    \n",
    "    n: last number in the sum\n",
    "    \"\"\"\n",
    "    total_sum = 0\n",
    "    for number in range(n+1):\n",
    "        total_sum = total_sum + number\n",
    "    return total_sum\n",
    "\n",
    "```"
   ]
  },
  {
   "cell_type": "markdown",
   "metadata": {},
   "source": [
    "The `for` loop above has been implemented with a [range-type](https://docs.python.org/3.6/library/stdtypes.html#ranges) object. These objects are used in the following way.\n",
    "\n",
    "```python\n",
    "range(start, stop, step)\n",
    "```\n",
    "\n",
    "We provide three arguments to `range`: a start point that defaults to $0$ if ommited; a stop point that has to be provided, since it has no default value; and a step size, which is how we will reach the stop point from the start point. The step size defaults to 1. Note that in the example we provided above, we have used exactly the default values for start and step, so we only cared to give the stop argument.\n",
    "\n",
    "How does the `sum_natural_numbers(n)` function work? We initialize the `total_sum` variable, which points to the partial sums, to zero. After this, the `for` loop does the work for us. The variable `number` takes every single value from `0` to `n` in steps of `1` and adds it to `total_sum`. It is important to note that the command inside the `for` loop is only executed while `number < n+1`. That is, the value `n+1` is itself excluded. That is why in our code above we computed the sum of the `n` first numbers with a `range` whose `stop` point is `n+1`. We can see all the elements generated by `range` by generating a list from it:\n",
    "\n",
    "```python\n",
    "list(range_object)\n",
    "```"
   ]
  },
  {
   "cell_type": "markdown",
   "metadata": {},
   "source": [
    "#### Exercise 5. Compute sum of n first a-th powers of natural numbers.\n",
    "\n",
    "Write code that implements the function $\\text{Sum}(n,a) = \\sum_{i=1}^n i^a$.\n",
    "\n"
   ]
  },
  {
   "cell_type": "code",
   "execution_count": null,
   "metadata": {
    "collapsed": true
   },
   "outputs": [],
   "source": []
  },
  {
   "cell_type": "markdown",
   "metadata": {},
   "source": [
    "#### Exercise 6. Compute factorials.\n",
    "Write a function that takes a natural number and returns its factorial.\n"
   ]
  },
  {
   "cell_type": "code",
   "execution_count": null,
   "metadata": {
    "collapsed": true
   },
   "outputs": [],
   "source": []
  },
  {
   "cell_type": "markdown",
   "metadata": {},
   "source": [
    "#### Exercise 7. The Basel series."
   ]
  },
  {
   "cell_type": "markdown",
   "metadata": {},
   "source": [
    "It is said that [Leonhard Euler](https://en.wikipedia.org/wiki/Leonhard_Euler) proved the convergence of the [Basel series](https://en.wikipedia.org/wiki/Basel_problem) in 1734. He showed that \n",
    "$\\sum^\\infty_{n=1} \\frac{1}{n^2} = \\frac{\\pi^2}{6}$. Write a function that computes the sum of the first $n$ terms of the Basel series. Plot the partial sums versus $n$ with a horizontal line at $y = \\frac{\\pi^2}{6}$, so that it becomes evident  that the Basel series is indeed converging.  "
   ]
  },
  {
   "cell_type": "code",
   "execution_count": null,
   "metadata": {
    "collapsed": true
   },
   "outputs": [],
   "source": []
  },
  {
   "cell_type": "markdown",
   "metadata": {},
   "source": [
    "# Iterables\n",
    "\n",
    "Loops are intimately related to iterables. Indeed we could tautologically say that iterables are data structures that can be looped or iterated over. We have been using them for a while now: whenever we plotted anything, we always had to create lists of x coordinates and y coordinates and pass them as arguments to `plt.plot()`. It is worth spending a little time in these data structures, since they are among Python's basic data types. They are the following.\n",
    "\n",
    "1. Strings;\n",
    "2. Lists;\n",
    "2. Tuples;\n",
    "3. Dictionaries.\n",
    "\n",
    "Let us briefly review each of these types.\n",
    "\n",
    "\n"
   ]
  },
  {
   "cell_type": "markdown",
   "metadata": {},
   "source": [
    "### Strings\n",
    "In Python, strings are of type `str`. They are created from characters enclosed between quotes (single or double). The most trivial use you can give them is simply to print text to the screen. For example,\n",
    "```python\n",
    "print(\"hello world!\")\n",
    "```\n",
    "prints this silly (albeit very canonical in computer science) message. There is a lot more to strings in Python though. Indeed, they are a nice oportunity to introduce some basic concepts related to object orientation. We can think of particular strings such as `\"hello world\"` as instances of a larger class of objects, in this case the class `str`. The advantage of thinking in these terms is that a class is a big bundle that includes not only the instances, but also functions that act on them. Such functions are called methods. For example, given any lower case string, we might want to get its upper case version. This is is easily accomplished with the `str.upper()` method.\n",
    "\n",
    "```python\n",
    "myLowerCaseString = \"hello world\"\n",
    "myUpperCaseString = myLowerCaseString.upper()\n",
    "print(myUpperCaseString)\n",
    "```\n",
    "The pattern you see above, which is called dot notation, will repeat itself when using this object-oriented approach. The general recipe to apply the method `myMethod` to an instance `myObject` of a class is\n",
    "\n",
    "```python\n",
    "myObject.myMethod(arguments)\n",
    "```\n",
    "\n",
    "Python provides several [built-in string methods](https://docs.python.org/3.6/library/stdtypes.html#string-methods). As another example of introspection in Python, the methods available in a class can be seen with `dir`, such as in the example below.\n",
    "\n",
    "```python\n",
    "dir(str) \n",
    "``` \n",
    "\n",
    "In the next exercise you are invited to try a string method."
   ]
  },
  {
   "cell_type": "markdown",
   "metadata": {},
   "source": [
    "#### Exercise 8.  Wiping out vowels from a string.\n",
    "Define the function `remove_vowels(aString)` that takes in a string as input and returns another string that is equal to the first one except that with all vowels removed. Hint: use the `str.replace()` method. The empty string in Python is `\"\"` or `''`."
   ]
  },
  {
   "cell_type": "code",
   "execution_count": null,
   "metadata": {
    "collapsed": true
   },
   "outputs": [],
   "source": []
  },
  {
   "cell_type": "markdown",
   "metadata": {
    "collapsed": true
   },
   "source": [
    "### Lists\n",
    "We are going to view Python's `list` type as just that: a list of obects (although the concept of list can be made [more precise][1] in computer science). Python's lists have two important features: they are mutable and they can store objects of different types. By mutable we mean that we can \"edit\" the contents of a given list at any time. Let us try a small example.\n",
    "\n",
    "```python\n",
    "myList = [1,2,\"Hello World\"]\n",
    "print(\"This is my list: \", myList)\n",
    "myList[0] = 0\n",
    "print(\"This is my edited list: \", myList)\n",
    "print(\"Length of myList: \", len(myList))\n",
    "\n",
    "```\n",
    "\n",
    "[1]: https://en.wikipedia.org/wiki/List_(abstract_data_type)"
   ]
  },
  {
   "cell_type": "markdown",
   "metadata": {},
   "source": [
    "The above example illustrates the important points well. First, a list in Python is written with brackets. After initializing the list, we changed its zeroth entry. This is an important point to note: indexing in Python starts at zero. In the end we use the `len()` function to print the list's length, which is equal to the number of elements in the list. Also note that the list above contains objects of different types: `int` and `str`. \n",
    "\n",
    "Just as with strings, Python has several [built-in list methods](https://docs.python.org/3.6/tutorial/datastructures.html#more-on-lists) that perform usual operations on lists. You will surely use them a lot. \n",
    "\n",
    "Besides using lists to store data, we shall loop over them very often. Given any of the iterable types, we can do this with the following command.\n",
    "\n",
    "\n",
    "```python\n",
    "for element in iterable:\n",
    "    block of code\n",
    "\n",
    "```\n",
    "\n",
    "Another way to iterate over lists (and any other ordered iterable) is by indexing. Indeed given the iterable `orderedIterable`, we could write the following code to iterate over it.\n",
    "\n",
    "```python\n",
    "for index in range(len(orderedIterable)):\n",
    "    block of code\n",
    "```\n",
    "Let us try some exercises on lists now."
   ]
  },
  {
   "cell_type": "markdown",
   "metadata": {
    "collapsed": true
   },
   "source": [
    "#### Exercise 9. Two ways to iterate.\n",
    "Write two functions, `print_iterable(anIterable)` and `print_by_index(orderedIterable)`. The first takes an iterable object and prints all its elements by the first method. The last one does the same, but using the second method. Test your functions with the string `\"hello world!\"` and the list `[0,1,2,3,4,5,6,7,8,9]`."
   ]
  },
  {
   "cell_type": "code",
   "execution_count": null,
   "metadata": {
    "collapsed": true
   },
   "outputs": [],
   "source": []
  },
  {
   "cell_type": "markdown",
   "metadata": {},
   "source": [
    "#### Exercise 10. Indexing and slicing.\n",
    "\n",
    "The purpose of this exercise is to get you familiar with the indexing possibilities offered by lists. A point to note is that although we use lists here, what you shall do in this exercise will also work with strings and tuples. Try to guess what should be the result of the following commands.\n",
    "\n",
    "```python\n",
    "myList = list(range(20)) \n",
    "a = myList[-1]\n",
    "b = myList[1:6] #This is a slice!\n",
    "c = myList[-1]\n",
    "d = myList[-14:-10]\n",
    "e = myList[:10]\n",
    "f = myList[-6:]\n",
    "g = myList[-15:12]\n",
    "h = myList[15:]\n",
    "print(\"This is a: \", a)\n",
    "print(\"This is b: \", b)\n",
    "print(\"This is c: \", c)\n",
    "print(\"This is d: \", d)\n",
    "print(\"This is e: \", e)\n",
    "print(\"This is f: \", f)\n",
    "print(\"This is g: \", g)\n",
    "print(\"This is h: \", h)\n",
    "```"
   ]
  },
  {
   "cell_type": "code",
   "execution_count": null,
   "metadata": {
    "collapsed": false
   },
   "outputs": [],
   "source": []
  },
  {
   "cell_type": "markdown",
   "metadata": {},
   "source": [
    "#### Exercise 11. Indexing and slicing embedded iterables. \n",
    "\n",
    "In this exercise we analyze embedded iterables. For the sake of clarity, we consider lists whose elements are themselves lists (or some other kind of iterable like strings). Try to guess the output of the commands below. \n",
    "\n",
    "```python\n",
    "myList = [[1,2,3], \"hello world!\", ['a','b',[4,5,6,7]]]\n",
    "a = myList[0]\n",
    "b = myList[0][1]\n",
    "c = myList [-2]\n",
    "d = myList[-2][-4]\n",
    "e = myList[len(myList) - 1]\n",
    "f = myList[len(myList) - 1][-1]\n",
    "g = myList[len(myList) - 1][-1][2]\n",
    "h = myList[len(myList) - 1][-1][:]\n",
    "print(\"This is a: \", a)\n",
    "print(\"This is b: \", b)\n",
    "print(\"This is c: \", c)\n",
    "print(\"This is d: \", d)\n",
    "print(\"This is e: \", e)\n",
    "print(\"This is f: \", f)\n",
    "print(\"This is g: \", g)\n",
    "print(\"This is h: \", h)\n",
    "```"
   ]
  },
  {
   "cell_type": "code",
   "execution_count": null,
   "metadata": {
    "collapsed": true
   },
   "outputs": [],
   "source": []
  },
  {
   "cell_type": "markdown",
   "metadata": {},
   "source": [
    "#### Exercise 12. Finding the divisors of a given number.\n",
    "\n",
    "Write a function `divisors(n)` that takes as input a natural number and returns a list with all its positive divisors."
   ]
  },
  {
   "cell_type": "code",
   "execution_count": null,
   "metadata": {
    "collapsed": true
   },
   "outputs": [],
   "source": []
  },
  {
   "cell_type": "markdown",
   "metadata": {},
   "source": [
    "#### Exercise 13. Decimal number representation\n",
    "\n",
    "In this exercise we will write code that decomposes decimal integers to their decimal power representation. Given an integer $z$ that has a $n$-length decimal power representation, say $z \\simeq z_{n-1}...z_0$, with $z_i \\in \\{0,1,...,9\\}$, its decimal power representation will be\n",
    "\n",
    "\\begin{equation*}\n",
    "z = z_010^0 + z_110^1 + ... + z_{n-1}10^{n-1}\n",
    "\\end{equation*}\n",
    "\n",
    "Your program should take in an integer and return a string containing its decimal power representation."
   ]
  },
  {
   "cell_type": "code",
   "execution_count": 2,
   "metadata": {
    "collapsed": true
   },
   "outputs": [],
   "source": [
    "def decimal_representation(anInt):\n",
    "    \"\"\"\n",
    "    Returns a string with decimal power representation of anInt.\n",
    "    \n",
    "    anInt: integer. \n",
    "    \"\"\"\n",
    "    #your code goes here\n",
    "    pass\n",
    "\n"
   ]
  },
  {
   "cell_type": "markdown",
   "metadata": {},
   "source": [
    "#### Exercise 14. Build a list from a string.\n",
    "Write a function `build_list(aString)` that takes in a string and returns a list with all the letters in the string. Hint: you may use a `for` loop, but there are other ways to do it."
   ]
  },
  {
   "cell_type": "code",
   "execution_count": null,
   "metadata": {
    "collapsed": true
   },
   "outputs": [],
   "source": []
  },
  {
   "cell_type": "markdown",
   "metadata": {},
   "source": [
    "#### Exercise 15. Find prime numbers.\n",
    "\n",
    "Common sense tells us that as we take larger and larger natural numbers, the occurrence of primes becomes ever rarer. Let us investigate this proposition.  Write a function that searches the first $n$ natural numbers for [primes](https://en.wikipedia.org/wiki/Prime_number). Your function `find_primes(n)` should return a list with all the prime numbers $ \\leq n$. Use your function to plot the proportion of natural numbers $\\leq n$ that are primes. You should compare your plot to a plot of the function $f(n) = \\frac{1}{\\ln n}$ (see the [prime number theorem](https://en.wikipedia.org/wiki/Prime_number_theorem))."
   ]
  },
  {
   "cell_type": "code",
   "execution_count": null,
   "metadata": {
    "collapsed": true
   },
   "outputs": [],
   "source": []
  },
  {
   "cell_type": "markdown",
   "metadata": {},
   "source": [
    "#### Exercise 16. Binary search.\n",
    "\n",
    "In this exercise we use [binary search](https://en.wikipedia.org/wiki/Binary_search_algorithm) to find if an element is in a list. The algorithm works as follows: at each iteration, we divide the unsearched list in two halves and choose one of them to inspect. If the element we are searching for is found, the search stops and we return its index. If not, the search moves on to the unsearched half. Fill in the remaining steps below."
   ]
  },
  {
   "cell_type": "code",
   "execution_count": 30,
   "metadata": {
    "collapsed": true
   },
   "outputs": [],
   "source": [
    "def binary_search(aList, element):\n",
    "    '''\n",
    "    Finds and element in a list via binary search. Returns the index where \n",
    "    element was found, or a message saying the element was not found in the \n",
    "    list.\n",
    "    \n",
    "    aList: list to be searched\n",
    "    element: the element we are looking for in aList. \n",
    "    '''\n",
    "    pass  "
   ]
  },
  {
   "cell_type": "markdown",
   "metadata": {},
   "source": [
    "### Tuples\n",
    "The next iterable type in Python is the `tuple` type that consists, well, of [tuples](https://docs.python.org/3.6/tutorial/datastructures.html#tuples-and-sequences). They seem very similar to lists, so it is important to emphasize their differences. Just like strings, tuples are immutable. This means that once you have created a `tuple` object, you cannot change it anymore. This adds safety to your code when immutability is desired. Python's designers also had in their minds different uses for lists and tuples. Although not mandatory, lists should be homogeneous, whilst tuples should be heterogeneous. This means that each entry in a tuple ideally should have a different meaning. Think for example of polar coordinates $(r,\\theta)$. The first entry of this tuple has a meaning (radial distance) that is different from the second one (angular position). Let us see some sample code that assigns a tuple to the variable `myTuple`.\n",
    "\n",
    "```python\n",
    "myTuple = (1,2,3,4,5,6,7,8,9)\n",
    "print(myTuple)\n",
    "```"
   ]
  },
  {
   "cell_type": "markdown",
   "metadata": {},
   "source": [
    "#### Exercise 17. Empty tuple and singleton.\n",
    "\n",
    "Create tuples with zero and one element. Make sure you actually created a tuple by checking the types of your objects."
   ]
  },
  {
   "cell_type": "code",
   "execution_count": null,
   "metadata": {
    "collapsed": false
   },
   "outputs": [],
   "source": []
  },
  {
   "cell_type": "markdown",
   "metadata": {
    "collapsed": true
   },
   "source": [
    "### Dictionaries\n",
    "\n",
    "[Dictionaries](https://docs.python.org/3.6/tutorial/datastructures.html#dictionaries) (type `dict`) are an example of unordered iterable. In practice what this means is that dictionaries don't use the same number-based indexing system that we have seen in the other iterables. Instead, dictionaries can be viewed as maps that link keys to values. In order to access a particular value stored in a dictionary, we have to provide its corresponding key as an index. Hopefully, running the example below  will make this explanation redundant.\n",
    "\n",
    "```python\n",
    "myDict = {'a': 1, 'b': 2, 'c': 3}\n",
    "print(\"myDict keys: \", myDict.keys())\n",
    "print(\"myDict values: \", myDict.values())\n",
    "print(\"Value associated to key 'b': \", myDict['b'])\n",
    "```\n",
    "Note in the code above the use of [dictionary methods](https://docs.python.org/3.6/library/stdtypes.html#mapping-types-dict), `myDict.keys()` and `myDict.values()`. \n"
   ]
  },
  {
   "cell_type": "markdown",
   "metadata": {},
   "source": [
    "#### Exercise 18. Trying to access a dictionary's value by index.\n",
    "\n",
    "As we have explained, dictionaries are unordered and therefore cannot be accessed by the usual range-of-numbers indexing like lists, for example. Using the ```myDict``` dictionary defined above, type myDict[0] and see what happens. \n"
   ]
  },
  {
   "cell_type": "code",
   "execution_count": null,
   "metadata": {
    "collapsed": false
   },
   "outputs": [],
   "source": []
  },
  {
   "cell_type": "markdown",
   "metadata": {},
   "source": [
    "Some quick, important facts about dictionaries. First, the keys can only be immutable types. Thus, lists cannot be used as keys, for example. Strings, ints/floats and tuples, on the other hand, are perfectly acceptable keys. Second, as should be clear by now, dictionaries are constructed with a pair of braces; an empty pair of braces creates an empty dictionary. Third, we can always add key:value pairs by simply assigning the desired value to the new key. Again, an example should make these matters clear.   \n",
    "\n",
    "```python\n",
    "myEmptyDict = {}\n",
    "print(\"This is an empty dictionary: \", myEmptyDict)\n",
    "myEmptyDict['a'] = \"First value added\"\n",
    "print(\"Key 'a' added: \", myEmptyDict)\n",
    "```"
   ]
  },
  {
   "cell_type": "code",
   "execution_count": null,
   "metadata": {
    "collapsed": false
   },
   "outputs": [],
   "source": []
  },
  {
   "cell_type": "markdown",
   "metadata": {},
   "source": [
    "#### Exercise 19. A dictionary of ASCII characters.\n",
    "\n",
    "For quite a long time, the [ASCII](https://en.wikipedia.org/wiki/ASCII) character encoding was the standard encoding system in many platforms. In this exercise we shall create a dictionary that encodes ASCII as follows. The dictionary's keys are the 128 characters encoded by ASCII. Its values are the binary encodings corresponding to  each character. Fill the missing steps below.    "
   ]
  },
  {
   "cell_type": "code",
   "execution_count": 21,
   "metadata": {
    "collapsed": false
   },
   "outputs": [],
   "source": [
    "#list of ascii characters\n",
    "asciiCharactersList = [chr(i) for i in range(128)]\n",
    "\n",
    "#list of binary values \n",
    "\n",
    "#now make a dict from the two lists and print it to the screen\n",
    "\n",
    "#Convert the string \"Hello World!\" to ascii binary and print it"
   ]
  },
  {
   "cell_type": "markdown",
   "metadata": {},
   "source": [
    "#### Exercise 20. Caesar cipher.\n",
    "\n",
    "The simplest type of encryption scheme is perhaps the [Caesar cipher](https://en.wikipedia.org/wiki/Caesar_cipher). The idea is to translate every character in the alphabet by a fixed value. If we translate every character by 2, for example, the resulting Caesar cipher maps $a \\rightarrow c$, $b \\rightarrow d$, ..., $x \\rightarrow z$, $y \\rightarrow a$, $z \\rightarrow b$ and we perform all these substitutions in a given text to encode it. Write the function `ceasar_cipher()` that encodes a string. Do it by filling the code below, then test it in a string of your choice. \n"
   ]
  },
  {
   "cell_type": "code",
   "execution_count": 24,
   "metadata": {
    "collapsed": false
   },
   "outputs": [],
   "source": [
    "def caesar(translation, aString):\n",
    "    \"\"\"\n",
    "    Returns the encoded version of aString, where all characters are translated by the value of translation\n",
    "    \n",
    "    translation: int in range(26)\n",
    "    aString: string to be encoded.\n",
    "    \"\"\"\n",
    "    pass"
   ]
  },
  {
   "cell_type": "markdown",
   "metadata": {},
   "source": [
    "# Global variables, scopes and referencing\n",
    "\n",
    "At this point we are familiar with most of Python's basic structures, so this is a good moment to discuss scopes and namespaces again. The [scope of variables](https://docs.python.org/3.6/tutorial/classes.html#python-scopes-and-namespaces) has been briefly mentioned in the previous notebook. It is certainly a good idea to read about it a little more carefully now. Here, we want to introduce [global variables](https://docs.python.org/3.6/reference/simple_stmts.html#global). If you want a quick example that shows the difference between a local and a global variable, run the code below. \n",
    "\n",
    "```python\n",
    "x = 42\n",
    "def local_assignment():\n",
    "    x = 3.14\n",
    "    print(\"This is x inside of local_assignment(): \")\n",
    "    print(x)\n",
    "def global_assignment():\n",
    "    global x\n",
    "    x = 2.78\n",
    "    print(\"This is x inside of global_assignment(): \")\n",
    "    print(x)\n",
    "\n",
    "print(\"This is x before calling any function:\")\n",
    "print(x)\n",
    "print(\"Now I will call local_assignment():\")\n",
    "local_assignment()\n",
    "print(\"Note that x in the global scope did not change:\")\n",
    "print(x)\n",
    "print(\"Now I will call global_assignment():\")\n",
    "global_assignment()\n",
    "print(\"Note that global_assignment() changed x! This is x in the global scope:\")\n",
    "print(x)\n",
    "```\n",
    "Hopefully, the example above made clear the point that variables defined inside of a function are local to the function's scope. If you wish to have different behaviour, you have to declare a global variable explicitly inside a function definition. A word of caution: although global variables can be pretty useful sometimes, their use is often disencouraged due to the extra difficulties they might introduce in the debugging process. Therefore, be parsimonious with their use. \n",
    "\n"
   ]
  },
  {
   "cell_type": "markdown",
   "metadata": {},
   "source": [
    "#### Exercise 21. Swapping variables.\n",
    "\n",
    "Suppose you have two scalar variables,`a` and `b`. One would commonly swap their values using a third auxiliary variable `c`like in the example below.\n",
    "\n",
    "```python\n",
    "a = 1\n",
    "b = 2\n",
    "print(\"This is a before the swap: \", a)\n",
    "print(\"This is b before the swap: \", b)\n",
    "#Swapping\n",
    "c = a\n",
    "a = b\n",
    "b = c\n",
    "print(\"This is a after the swap: \", a)\n",
    "print(\"This is b after the swap: \", b)\n",
    "```\n",
    "\n",
    "How would you write a function that swaps the values of any two variables?"
   ]
  },
  {
   "cell_type": "code",
   "execution_count": null,
   "metadata": {
    "collapsed": false
   },
   "outputs": [],
   "source": []
  },
  {
   "cell_type": "markdown",
   "metadata": {},
   "source": [
    "#### Exercise 22. Coppying lists.\n",
    "Copying lists in Python can be a tricky feat. This exercise aims to alert you to that. Suppose we want to copy a list from a variable `a` to a variable `b`. We might want to keep the list in `a` intact while performing some operations in `b`. As an example, suppose we want the list in `b` to contain the elements of `a`, but with the zeroth element changed. A naive first try would be the following. \n",
    "\n",
    "```python\n",
    "a = [1,2,3]\n",
    "b = a\n",
    "print(\"This is a: \", a)\n",
    "print(\"This is b: \", b)\n",
    "b[0] = 10\n",
    "print(\"This is a after the change in b: \", a)\n",
    "print(\"This is b after the change in b: \", b)\n",
    "```\n",
    "Our code shows that we indeed changed `b`, but we also changed a! This is due to the fact that Python does not have variables strictly speaking, but names. When we execute the command `b = a` what we are actually doing is giving the list `[1,2,3]` another name, `b`. Thus, actions performed in `b` will be performed on the same list that the name `a` refers to. How would you solve this issue? Specifically, write a function that returns a copy of a list. Then test if you have a true copy by changing the zeroth element of the list returned by your function.  "
   ]
  },
  {
   "cell_type": "code",
   "execution_count": null,
   "metadata": {
    "collapsed": false
   },
   "outputs": [],
   "source": []
  },
  {
   "cell_type": "markdown",
   "metadata": {},
   "source": [
    "# Recursion\n",
    "\n",
    "We end this notebook with a brief discussion on [recursion][1]. We can view recursion as another kind of loop, one in which further values in the computation refer to previous values, so that the whole computation cascades to a defined set of primary cases. Thus recursion works by solving many smaller versions of the same problem. A classical example is the recursive computation of the factorial of a natural number. We write this example below.\n",
    "\n",
    "```python\n",
    "def recursive_factorial(n):\n",
    "    if n == 0:\n",
    "        return 1\n",
    "    else:\n",
    "        return n*recursive_factorial(n-1)\n",
    "```\n",
    "\n",
    "This solution to the computation of factorials uses the trivial fact that $n! = n(n-1)!$. Note that to compute the factorial of $n$ we end up generating $n+1$ calls to `recursive_factorial()`. In this case it is not really a big deal, but in some cases, such as the computation of Fibonacci numbers, the number of recursive calls  can grow quite overwhelmingly. We will investigate this in the next exercise. \n",
    "\n",
    "[1]:https://en.wikipedia.org/wiki/Recursion_(computer_science)"
   ]
  },
  {
   "cell_type": "markdown",
   "metadata": {
    "collapsed": true
   },
   "source": [
    "#### Exercise 23. Computational complexity of Fibonacci sequence.\n",
    "\n",
    "The [Fibonacci sequence](https://en.wikipedia.org/wiki/Fibonacci_number) is an integer number sequence that relates to  surprisingly disparate phenomena, ranging from pattern formation in nature to poetry optimization. The full Fibonacci sequence can be recursively generated as follows.\n",
    "\n",
    "\\begin{equation}\n",
    "F(n) = \\begin{cases}\n",
    "0, \\text{ if } n = 0;\\\\\n",
    "1, \\text{ if } n = 1;\\\\\n",
    "F(n-1) + F(n-2), \\text{ if } n \\geq 2.\n",
    "\\end{cases}\n",
    "\\end{equation}\n",
    "\n",
    "We want to investigate how fast the number of function calls grow when we recursively generate Fibonacci numbers. To achieve this, we shall use what is usually considered bad practice: a global variable. The global variable `counter` will count how many times the function `fibonacci(n)` is called. Fill the missing steps below."
   ]
  },
  {
   "cell_type": "code",
   "execution_count": 29,
   "metadata": {
    "collapsed": false
   },
   "outputs": [],
   "source": [
    "import matplotlib.pyplot as plt\n",
    "from  math import log\n",
    "\n",
    "counter = 0\n",
    "def fibonacci(n):\n",
    "    \"\"\"\n",
    "    Recursively computes the n-th Fibonacci number.\n",
    "    \n",
    "    n: integer, >=0\n",
    "    \"\"\"\n",
    "    global counter\n",
    "    counter += 1\n",
    "    pass\n",
    "\n",
    "    \n",
    "#compute the fibonacci(n) for all n in the list below. It might take a while!\n",
    "nList = [n for n in range(1,30)]\n",
    "\n",
    "#store in the list below the values of fibonacci(n) for all n in nList\n",
    "fibList = []\n",
    "\n",
    "#store in the list below the logs of counter values associated to fibonacci(n), for all n in nList\n",
    "counterLogList = []\n",
    "\n",
    "#Generate fibList and counterLogList\n",
    "\n",
    "#plot counterLogList x nList \n",
    "    "
   ]
  }
 ],
 "metadata": {
  "kernelspec": {
   "display_name": "Python 3",
   "language": "python",
   "name": "python3"
  },
  "language_info": {
   "codemirror_mode": {
    "name": "ipython",
    "version": 3
   },
   "file_extension": ".py",
   "mimetype": "text/x-python",
   "name": "python",
   "nbconvert_exporter": "python",
   "pygments_lexer": "ipython3",
   "version": "3.6.0"
  }
 },
 "nbformat": 4,
 "nbformat_minor": 2
}
