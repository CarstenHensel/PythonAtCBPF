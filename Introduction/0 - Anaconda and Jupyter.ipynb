{
 "cells": [
  {
   "cell_type": "markdown",
   "metadata": {},
   "source": [
    "# Start here!\n",
    "\n",
    "This very brief introduction is designed as an overview of [Python](https://www.python.org/) and its ecosystem. Since the journey is long, we won't spend much time here. Time is indeed too limited a resource to be lavishly squandered. So the purpose of this notebook is to get you and your machine ready for what is to come in the lessons ahead.  Let us start with you, then we deal with the least complicated part (the machine).\n",
    "\n",
    "### Why Python?\n",
    "\n",
    "Most human beings don't simply go around doing things. For them, motivation is absolutely necessary. These matters only get worse when one considers which programming language one should learn.  So why should you spend your time trying to learn Python? Here are some reasons I can give you.\n",
    "\n",
    "#### 1. Readability.\n",
    "\n",
    "Python's simple and highly readable syntax allows you to learn it really fast compared to other languages like C++ or Java. This is particularly true if you have never programmed before.  You might even be able to thoroughly [teach it yourself in 21 days](http://abstrusegoose.com/249). Jokes apart, readability is an important feature of Python by design, as [stated](https://www.python.org/doc/essays/foreword/) by [Guido van Rossum](https://en.wikipedia.org/wiki/Guido_van_Rossum), the creator of the language. Pyhton's high readability often translates in practice into smaller and simpler code and lower development times when compared to other languages. It also means that many of the routine  tasks you will perform in practice, like scripting, will be more effective with Python than most other languages.\n",
    "\n",
    "#### 2. A vast ecosystem.\n",
    "\n",
    "No matter what computational task you have in mind, there is a Python module that accomplishes it. No matter what question you might have about a particular construct using any of these Python modules, someone has likely made that question before you, and this question has probably been thoroughly answered by a member of Python's huge community. \n",
    "\n",
    "\n",
    "\n",
    "\n",
    " \n",
    "\n",
    "of the Python modules that we shall use in this course. A Python module can be seen as a toolcase providing functionality to solve a specific class of problems. Thus, the math module includes mathematical functions commonly used in science and engineering. Similarly, the random module provides methods for generating pseudorandom numbers.  So here are some of the most commonly used modules:\n",
    "\n",
    "1. [Core Python](https://docs.python.org/3.6/library/index.html) (the basic language)\n",
    "4. Numpy (python's numeric toolbox, similar to matlab)\n",
    "5. Matplotlib (for plots)\n",
    "6. Pandas (datasets and data analysis, equivalent to many of R's functionality)\n",
    "7. Scikit-learn (machine learning)\n",
    "8. \n",
    "\n",
    "The first module is just the Python language as is. It provides basic functionality to implement general purpose algorithms. On the other hand, the last two modules are of particular interest for scientists and engineers. The numpy module includes all kinds of mathematical functions and devices implemented in a numerically efficient way. It will be our preferred tool  for numerical analysis. The Matplotlib.pyplot module provides MATLAB-like functions for paper quality plots. It should be noted that we structured this document in this way for purely pedagogical reasons, with the aim to get you programming on the fly. \n",
    "\n",
    "Another important point to be made is that we will be using python 3 in these lectures. While it is not our purpose here to discuss where python 3 is not backwards compatible with python 2, you should be aware that code written in one version of python will not necessarily work the way it would in another version. Therefore, to make sure that you are fully compatible with all the technical specifications of this course, we strongly recommend you to download and install the Anaconda distribution of python. In what follows, we guide you through the installation process.\n",
    "\n",
    "## 1. Installing and running Anaconda\n",
    "\n",
    "Go to the the Anaconda webpage, https://www.continuum.io/downloads.\n",
    "\n"
   ]
  },
  {
   "cell_type": "code",
   "execution_count": 1,
   "metadata": {
    "collapsed": false
   },
   "outputs": [
    {
     "name": "stdout",
     "output_type": "stream",
     "text": [
      "The Zen of Python, by Tim Peters\n",
      "\n",
      "Beautiful is better than ugly.\n",
      "Explicit is better than implicit.\n",
      "Simple is better than complex.\n",
      "Complex is better than complicated.\n",
      "Flat is better than nested.\n",
      "Sparse is better than dense.\n",
      "Readability counts.\n",
      "Special cases aren't special enough to break the rules.\n",
      "Although practicality beats purity.\n",
      "Errors should never pass silently.\n",
      "Unless explicitly silenced.\n",
      "In the face of ambiguity, refuse the temptation to guess.\n",
      "There should be one-- and preferably only one --obvious way to do it.\n",
      "Although that way may not be obvious at first unless you're Dutch.\n",
      "Now is better than never.\n",
      "Although never is often better than *right* now.\n",
      "If the implementation is hard to explain, it's a bad idea.\n",
      "If the implementation is easy to explain, it may be a good idea.\n",
      "Namespaces are one honking great idea -- let's do more of those!\n"
     ]
    }
   ],
   "source": [
    "import this"
   ]
  },
  {
   "cell_type": "markdown",
   "metadata": {},
   "source": []
  },
  {
   "cell_type": "code",
   "execution_count": null,
   "metadata": {
    "collapsed": true
   },
   "outputs": [],
   "source": []
  }
 ],
 "metadata": {
  "kernelspec": {
   "display_name": "Python 3",
   "language": "python",
   "name": "python3"
  },
  "language_info": {
   "codemirror_mode": {
    "name": "ipython",
    "version": 3
   },
   "file_extension": ".py",
   "mimetype": "text/x-python",
   "name": "python",
   "nbconvert_exporter": "python",
   "pygments_lexer": "ipython3",
   "version": "3.6.0"
  }
 },
 "nbformat": 4,
 "nbformat_minor": 2
}
