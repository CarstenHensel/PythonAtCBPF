{
 "cells": [
  {
   "cell_type": "code",
   "execution_count": 1,
   "metadata": {
    "collapsed": false
   },
   "outputs": [
    {
     "data": {
      "application/javascript": [
       "Jupyter.notebook.config.update({\"load_extensions\":{\"calico-spell-check\":true,\n",
       "                                                  \"calico-document-tools\":true,\n",
       "                                                  \"calico-cell-tools\":true}})"
      ],
      "text/plain": [
       "<IPython.core.display.Javascript object>"
      ]
     },
     "metadata": {},
     "output_type": "display_data"
    }
   ],
   "source": [
    "%%javascript\n",
    "Jupyter.notebook.config.update({\"load_extensions\":{\"calico-spell-check\":true,\n",
    "                                                  \"calico-document-tools\":true,\n",
    "                                                  \"calico-cell-tools\":true}})"
   ]
  },
  {
   "cell_type": "markdown",
   "metadata": {
    "slideshow": {
     "slide_type": "slide"
    }
   },
   "source": [
    "# Programming Python\n",
    "\n",
    "### Putting it all together \n",
    "### Structuring a program\n",
    "### Programming paradigms"
   ]
  },
  {
   "cell_type": "markdown",
   "metadata": {
    "slideshow": {
     "slide_type": "slide"
    }
   },
   "source": [
    "## What are programming paradigms?\n",
    "\n",
    "-  classification of programming languages \n",
    "-  programming languages can follow several paradigms (Python: object oriented, imperative, functional, procedural)\n",
    "-  paradigms might be concerned with the execution of the language (e.g. side effects yes or no)\n",
    "-  paradigms might just describe the organization of code \n",
    "-  ... or the style of the syntax and grammar of the language"
   ]
  },
  {
   "cell_type": "markdown",
   "metadata": {
    "slideshow": {
     "slide_type": "slide"
    }
   },
   "source": [
    "## Today's Lecture\n",
    "  Let's write a program...\n",
    "-  Imperative Programming\n",
    "-  Procedural Programming\n",
    "    - Functions\n",
    "-  Functional Programming\n",
    "-  Object Oriented Programming"
   ]
  },
  {
   "cell_type": "markdown",
   "metadata": {
    "slideshow": {
     "slide_type": "slide"
    }
   },
   "source": [
    "## Let's write a program...\n"
   ]
  },
  {
   "cell_type": "markdown",
   "metadata": {
    "slideshow": {
     "slide_type": "fragment"
    }
   },
   "source": [
    "- This is a toy example.\n",
    "- There are better ways to do what we're going to do.\n",
    "- But we want to illustrate how different programming needs influence the prgramming 'style'.\n",
    "- In our example we deal with vectorial quantities (forces, velocities, ...)."
   ]
  },
  {
   "cell_type": "markdown",
   "metadata": {
    "slideshow": {
     "slide_type": "fragment"
    }
   },
   "source": [
    "- In this example we deal with two 2dim vectors."
   ]
  },
  {
   "cell_type": "markdown",
   "metadata": {
    "slideshow": {
     "slide_type": "slide"
    }
   },
   "source": [
    "- Here is our first vector."
   ]
  },
  {
   "cell_type": "code",
   "execution_count": 1,
   "metadata": {
    "collapsed": true,
    "slideshow": {
     "slide_type": "fragment"
    }
   },
   "outputs": [],
   "source": [
    "x = 5\n",
    "y = 7"
   ]
  },
  {
   "cell_type": "markdown",
   "metadata": {
    "slideshow": {
     "slide_type": "fragment"
    }
   },
   "source": [
    "- And here is another one:"
   ]
  },
  {
   "cell_type": "code",
   "execution_count": 2,
   "metadata": {
    "collapsed": true,
    "slideshow": {
     "slide_type": "fragment"
    }
   },
   "outputs": [],
   "source": [
    "x2 = -3   # oops maybe the choice of variable names is not optimal\n",
    "y2 = 17"
   ]
  },
  {
   "cell_type": "markdown",
   "metadata": {
    "slideshow": {
     "slide_type": "fragment"
    }
   },
   "source": [
    "- In our example we want to apply some vector arithmetics.\n",
    "- Let's first add those two vectors:"
   ]
  },
  {
   "cell_type": "code",
   "execution_count": 4,
   "metadata": {
    "collapsed": false,
    "slideshow": {
     "slide_type": "fragment"
    }
   },
   "outputs": [
    {
     "name": "stdout",
     "output_type": "stream",
     "text": [
      "(2, 24)\n"
     ]
    }
   ],
   "source": [
    "x3 = x + x2\n",
    "y3 = y + y2\n",
    "\n",
    "print(x3, y3)"
   ]
  },
  {
   "cell_type": "markdown",
   "metadata": {
    "slideshow": {
     "slide_type": "slide"
    }
   },
   "source": [
    "- Now, what is the length of this new vector?\n",
    "- Well, we know that $\\qquad|v| = \\sqrt{v_x^2+v_y^2}$."
   ]
  },
  {
   "cell_type": "code",
   "execution_count": 6,
   "metadata": {
    "collapsed": false,
    "slideshow": {
     "slide_type": "fragment"
    }
   },
   "outputs": [
    {
     "name": "stdout",
     "output_type": "stream",
     "text": [
      "24.0831891576\n"
     ]
    }
   ],
   "source": [
    "from math import sqrt\n",
    "length_3 = sqrt(x3 * x3 + y3 * y3)\n",
    "\n",
    "print length_3"
   ]
  },
  {
   "cell_type": "markdown",
   "metadata": {
    "slideshow": {
     "slide_type": "fragment"
    }
   },
   "source": [
    "- How does this length compare to the length of the first vector?"
   ]
  },
  {
   "cell_type": "code",
   "execution_count": 8,
   "metadata": {
    "collapsed": false,
    "slideshow": {
     "slide_type": "fragment"
    }
   },
   "outputs": [
    {
     "name": "stdout",
     "output_type": "stream",
     "text": [
      "8.60232526704\n"
     ]
    }
   ],
   "source": [
    "length_1 = sqrt(x * x + y * y)\n",
    "print length_1"
   ]
  },
  {
   "cell_type": "markdown",
   "metadata": {
    "slideshow": {
     "slide_type": "fragment"
    }
   },
   "source": [
    "Hm, that's kind of annoying."
   ]
  },
  {
   "cell_type": "markdown",
   "metadata": {
    "slideshow": {
     "slide_type": "slide"
    }
   },
   "source": [
    "## What we are doing here is called \n",
    "\n",
    "## <font, color='red'> Imperative Programming</font>\n",
    "\n",
    "- IP uses statements to change the **state** of a program.\n",
    "- Changes are *here-and-now* changes (see length calculation above).\n",
    "- IP goes back to the early days of computers when programming consisted of simple statements.\n",
    "- IP is very powerful when comes to data manipulation.\n",
    "- But..."
   ]
  },
  {
   "cell_type": "markdown",
   "metadata": {
    "slideshow": {
     "slide_type": "slide"
    }
   },
   "source": [
    "## Interlude: The Magical Number 7$\\pm$2\n",
    "- George Miller\n",
    "- research on short-term memory capacity\n",
    "- 1956: paper on the *Magical Number 7$\\pm$2*.\n",
    "- 7 $\\pm$ 2 is the limit of storable information\n",
    "- But it's also a good rule of thumb when it comes to programming.\n",
    "    "
   ]
  },
  {
   "cell_type": "markdown",
   "metadata": {
    "slideshow": {
     "slide_type": "fragment"
    }
   },
   "source": [
    "**When you need more than 7 +/- 2 lines of code to describe something, it's very likely that you need to break down the problem in smaller chunks.**"
   ]
  },
  {
   "cell_type": "markdown",
   "metadata": {
    "slideshow": {
     "slide_type": "slide"
    }
   },
   "source": [
    "### Back to our problem...\n",
    "\n",
    "- Imperative programming forced us to blow up our source code. \n",
    "- And we easily violated Miller's Rule!\n",
    "- Do we have to type the same thing over and over again? \n",
    "- Well, of course not!\n",
    "- We know that we can 'outsource' common program code in **functions**!"
   ]
  },
  {
   "cell_type": "markdown",
   "metadata": {
    "slideshow": {
     "slide_type": "fragment"
    }
   },
   "source": [
    "## This is in short the idea of the <font color='red'> procedural programming paradigm</font>."
   ]
  },
  {
   "cell_type": "markdown",
   "metadata": {
    "slideshow": {
     "slide_type": "slide"
    }
   },
   "source": [
    "- We know how to write a function:"
   ]
  },
  {
   "cell_type": "code",
   "execution_count": 10,
   "metadata": {
    "collapsed": false,
    "slideshow": {
     "slide_type": "fragment"
    }
   },
   "outputs": [],
   "source": [
    "def length(x, y):\n",
    "    return sqrt(x* x + y * y)"
   ]
  },
  {
   "cell_type": "markdown",
   "metadata": {
    "slideshow": {
     "slide_type": "fragment"
    }
   },
   "source": [
    "- What about other functions?"
   ]
  },
  {
   "cell_type": "code",
   "execution_count": 12,
   "metadata": {
    "collapsed": true,
    "slideshow": {
     "slide_type": "fragment"
    }
   },
   "outputs": [],
   "source": [
    "def vector_sum(vx1, vy1, vx2, vy2):\n",
    "    x = vx1 + vx2\n",
    "    y = vy1 + vy2\n",
    "    return x, y      #Nice, there's no restriction on the amount of return values."
   ]
  },
  {
   "cell_type": "code",
   "execution_count": 13,
   "metadata": {
    "collapsed": true,
    "slideshow": {
     "slide_type": "fragment"
    }
   },
   "outputs": [],
   "source": [
    "def scalar_prod(vx1, vy1, vx2, vy2):\n",
    "    return (vx1 * vx2 + vy2 * vy2)"
   ]
  },
  {
   "cell_type": "markdown",
   "metadata": {
    "slideshow": {
     "slide_type": "fragment"
    }
   },
   "source": [
    "- Looks like we can re-write our `length` function:"
   ]
  },
  {
   "cell_type": "code",
   "execution_count": 14,
   "metadata": {
    "collapsed": true,
    "slideshow": {
     "slide_type": "slide"
    }
   },
   "outputs": [],
   "source": [
    "def length(vx1, vy1):\n",
    "    return sqrt(scalar_prod(vx1, vy1, vx1, vy1))   #hmmmm, a function of a function"
   ]
  },
  {
   "cell_type": "markdown",
   "metadata": {
    "slideshow": {
     "slide_type": "fragment"
    }
   },
   "source": [
    "Let's give it a try:"
   ]
  },
  {
   "cell_type": "code",
   "execution_count": 17,
   "metadata": {
    "collapsed": false,
    "slideshow": {
     "slide_type": "fragment"
    }
   },
   "outputs": [
    {
     "name": "stdout",
     "output_type": "stream",
     "text": [
      "5.0\n"
     ]
    }
   ],
   "source": [
    "print length(3, 4)"
   ]
  },
  {
   "cell_type": "markdown",
   "metadata": {
    "slideshow": {
     "slide_type": "fragment"
    }
   },
   "source": [
    "### Functions seem to be a powerful programming tool.\n",
    "It might be a good idea to go through Python and its *function functionality*. "
   ]
  },
  {
   "cell_type": "markdown",
   "metadata": {
    "slideshow": {
     "slide_type": "slide"
    }
   },
   "source": [
    "## More on Functions"
   ]
  },
  {
   "cell_type": "markdown",
   "metadata": {
    "slideshow": {
     "slide_type": "slide"
    }
   },
   "source": [
    "## Function Defintion"
   ]
  },
  {
   "cell_type": "code",
   "execution_count": null,
   "metadata": {
    "collapsed": true,
    "slideshow": {
     "slide_type": "fragment"
    }
   },
   "outputs": [],
   "source": [
    "def functionname( parameters ):\n",
    "   \"function_docstring\"\n",
    "   function_suite\n",
    "   return [expression]"
   ]
  },
  {
   "cell_type": "markdown",
   "metadata": {
    "slideshow": {
     "slide_type": "fragment"
    }
   },
   "source": [
    "- We have dealt with the actual function code.\n",
    "- We know about the return value(s).\n",
    "- But what about the **parameters**?"
   ]
  },
  {
   "cell_type": "markdown",
   "metadata": {
    "slideshow": {
     "slide_type": "slide"
    }
   },
   "source": [
    "## Function Arguments (Parameters)\n",
    "- required arguments\n",
    "- keyword arguments\n",
    "- default arguments\n",
    "- variable length arguments"
   ]
  },
  {
   "cell_type": "markdown",
   "metadata": {
    "slideshow": {
     "slide_type": "slide"
    }
   },
   "source": [
    "### required arguments"
   ]
  },
  {
   "cell_type": "code",
   "execution_count": 18,
   "metadata": {
    "collapsed": false,
    "slideshow": {
     "slide_type": "fragment"
    }
   },
   "outputs": [
    {
     "ename": "TypeError",
     "evalue": "foo() takes exactly 1 argument (0 given)",
     "output_type": "error",
     "traceback": [
      "\u001b[0;31m---------------------------------------------------------------------------\u001b[0m",
      "\u001b[0;31mTypeError\u001b[0m                                 Traceback (most recent call last)",
      "\u001b[0;32m<ipython-input-18-1aef52df3582>\u001b[0m in \u001b[0;36m<module>\u001b[0;34m()\u001b[0m\n\u001b[1;32m      2\u001b[0m     \u001b[0;32mprint\u001b[0m\u001b[0;34m(\u001b[0m\u001b[0ms\u001b[0m\u001b[0;34m)\u001b[0m\u001b[0;34m\u001b[0m\u001b[0m\n\u001b[1;32m      3\u001b[0m \u001b[0;34m\u001b[0m\u001b[0m\n\u001b[0;32m----> 4\u001b[0;31m \u001b[0mfoo\u001b[0m\u001b[0;34m(\u001b[0m\u001b[0;34m)\u001b[0m\u001b[0;34m\u001b[0m\u001b[0m\n\u001b[0m",
      "\u001b[0;31mTypeError\u001b[0m: foo() takes exactly 1 argument (0 given)"
     ]
    }
   ],
   "source": [
    "def foo( s ):\n",
    "    print(s)\n",
    "    \n",
    "foo()"
   ]
  },
  {
   "cell_type": "markdown",
   "metadata": {
    "slideshow": {
     "slide_type": "slide"
    }
   },
   "source": [
    "### keyword arguments\n",
    "Keyword argument allow the caller to identify the arguments by their parameter names:"
   ]
  },
  {
   "cell_type": "code",
   "execution_count": 19,
   "metadata": {
    "collapsed": false,
    "slideshow": {
     "slide_type": "fragment"
    }
   },
   "outputs": [
    {
     "name": "stdout",
     "output_type": "stream",
     "text": [
      "('name:', 'Alice')\n",
      "('age: ', 35)\n",
      "----\n",
      "('name:', 19)\n",
      "('age: ', 'Bob')\n",
      "----\n",
      "('name:', 'Dave')\n",
      "('age: ', 78)\n"
     ]
    }
   ],
   "source": [
    "def foo(name, age):\n",
    "    print(\"name:\", name)\n",
    "    print(\"age: \", age)\n",
    "\n",
    "foo('Alice', 35)\n",
    "print('----')\n",
    "foo(19, 'Bob')\n",
    "print('----')\n",
    "foo(age = 78, name = 'Dave')"
   ]
  },
  {
   "cell_type": "markdown",
   "metadata": {
    "slideshow": {
     "slide_type": "slide"
    }
   },
   "source": [
    "### default arguments"
   ]
  },
  {
   "cell_type": "code",
   "execution_count": 22,
   "metadata": {
    "collapsed": false,
    "slideshow": {
     "slide_type": "fragment"
    }
   },
   "outputs": [
    {
     "name": "stdout",
     "output_type": "stream",
     "text": [
      "('name:', 'Alice')\n",
      "('age: ', 23)\n",
      "('name:', 'Bob')\n",
      "('age: ', 29)\n"
     ]
    }
   ],
   "source": [
    "def foo(name, age = 23): \n",
    "    print(\"name:\", name)\n",
    "    print(\"age: \", age)\n",
    "  \n",
    "\n",
    "foo('Alice')\n",
    "foo('Bob', 29)"
   ]
  },
  {
   "cell_type": "markdown",
   "metadata": {
    "slideshow": {
     "slide_type": "slide"
    }
   },
   "source": [
    "- The application of default arguments seem to be obvious.\n",
    "- But there are some not so obvious applications: <font, color='red'> **method overriding**</font>.\n",
    "- MO might be known from other languages:\n",
    "    - Define multiple functions with the same name\n",
    "    - Functions are then distinguished by their number and type of arguments.\n",
    "- Python can do something similar (and in most cases it's more elegant).\n",
    "- Here is a simple example $\\Rightarrow$"
   ]
  },
  {
   "cell_type": "code",
   "execution_count": 25,
   "metadata": {
    "collapsed": false,
    "slideshow": {
     "slide_type": "slide"
    }
   },
   "outputs": [],
   "source": [
    "def vector_sum(vx1, vy1, vx2, vy2, vz1=None, vz2=None):\n",
    "    if vz1 == None or vz2 == None:             # making sure that both values are set\n",
    "        return vx1 + vx2, vy1 + vy2\n",
    "    else:\n",
    "        return vx1 + vx2, vy1 + vy2, vz1 + vz2"
   ]
  },
  {
   "cell_type": "code",
   "execution_count": 27,
   "metadata": {
    "collapsed": false,
    "slideshow": {
     "slide_type": "fragment"
    }
   },
   "outputs": [
    {
     "name": "stdout",
     "output_type": "stream",
     "text": [
      "(4, 6)\n"
     ]
    }
   ],
   "source": [
    "print vector_sum(1, 2, 3, 4)"
   ]
  },
  {
   "cell_type": "code",
   "execution_count": 28,
   "metadata": {
    "collapsed": false,
    "slideshow": {
     "slide_type": "fragment"
    }
   },
   "outputs": [
    {
     "name": "stdout",
     "output_type": "stream",
     "text": [
      "(4, 6, 16)\n"
     ]
    }
   ],
   "source": [
    "print vector_sum(1, 2, 3, 4, 8,8)"
   ]
  },
  {
   "cell_type": "markdown",
   "metadata": {
    "slideshow": {
     "slide_type": "fragment"
    }
   },
   "source": [
    "Careful with the amount of code inside a function (7$\\pm$2 rule)!"
   ]
  },
  {
   "cell_type": "markdown",
   "metadata": {
    "slideshow": {
     "slide_type": "slide"
    }
   },
   "source": [
    "- Default arguments are pretty powerful!\n",
    "- However, there's a caveat here.\n",
    "- Default arguments are evaluated at **definition-time** and not at call-time.\n",
    "- What does that entail? Here is an example of a function that logs a message together with a time stamp:"
   ]
  },
  {
   "cell_type": "code",
   "execution_count": 31,
   "metadata": {
    "collapsed": false,
    "slideshow": {
     "slide_type": "fragment"
    }
   },
   "outputs": [
    {
     "name": "stdout",
     "output_type": "stream",
     "text": [
      "2017-11-08 10:56:53.681709\n"
     ]
    }
   ],
   "source": [
    "import datetime as dt     # What's that?\n",
    "\n",
    "print dt.datetime.now()"
   ]
  },
  {
   "cell_type": "code",
   "execution_count": 33,
   "metadata": {
    "collapsed": true,
    "slideshow": {
     "slide_type": "fragment"
    }
   },
   "outputs": [],
   "source": [
    "def log_time(message, time=dt.datetime.now()):\n",
    "    print(\"{0}: {1}\".format(time.isoformat(), message))"
   ]
  },
  {
   "cell_type": "code",
   "execution_count": 34,
   "metadata": {
    "collapsed": false,
    "slideshow": {
     "slide_type": "fragment"
    }
   },
   "outputs": [
    {
     "name": "stdout",
     "output_type": "stream",
     "text": [
      "2017-11-08T10:56:56.496843: message 1\n"
     ]
    }
   ],
   "source": [
    "log_time(\"message 1\")"
   ]
  },
  {
   "cell_type": "code",
   "execution_count": 36,
   "metadata": {
    "collapsed": false,
    "slideshow": {
     "slide_type": "fragment"
    }
   },
   "outputs": [
    {
     "name": "stdout",
     "output_type": "stream",
     "text": [
      "2017-11-08T10:56:56.496843: message 2\n"
     ]
    }
   ],
   "source": [
    "log_time(\"message 2\")"
   ]
  },
  {
   "cell_type": "code",
   "execution_count": 37,
   "metadata": {
    "collapsed": false,
    "slideshow": {
     "slide_type": "fragment"
    }
   },
   "outputs": [
    {
     "name": "stdout",
     "output_type": "stream",
     "text": [
      "2017-11-08T10:56:56.496843: message 3\n"
     ]
    }
   ],
   "source": [
    "log_time(\"message 3\")"
   ]
  },
  {
   "cell_type": "markdown",
   "metadata": {
    "slideshow": {
     "slide_type": "slide"
    }
   },
   "source": [
    "One more example: default arguments and mutable variables:"
   ]
  },
  {
   "cell_type": "code",
   "execution_count": 38,
   "metadata": {
    "collapsed": true,
    "slideshow": {
     "slide_type": "fragment"
    }
   },
   "outputs": [],
   "source": [
    "def foo(value, a=[]):\n",
    "    a.append(value)\n",
    "    return a"
   ]
  },
  {
   "cell_type": "code",
   "execution_count": 39,
   "metadata": {
    "collapsed": false,
    "slideshow": {
     "slide_type": "fragment"
    }
   },
   "outputs": [
    {
     "name": "stdout",
     "output_type": "stream",
     "text": [
      "[1]\n"
     ]
    }
   ],
   "source": [
    "print(foo(1))"
   ]
  },
  {
   "cell_type": "code",
   "execution_count": 40,
   "metadata": {
    "collapsed": false,
    "slideshow": {
     "slide_type": "fragment"
    }
   },
   "outputs": [
    {
     "name": "stdout",
     "output_type": "stream",
     "text": [
      "[1, 2]\n"
     ]
    }
   ],
   "source": [
    "print(foo(2))"
   ]
  },
  {
   "cell_type": "code",
   "execution_count": 41,
   "metadata": {
    "collapsed": false,
    "slideshow": {
     "slide_type": "fragment"
    }
   },
   "outputs": [
    {
     "name": "stdout",
     "output_type": "stream",
     "text": [
      "[1, 2, 'uh oh']\n"
     ]
    }
   ],
   "source": [
    "print(foo('uh oh'))"
   ]
  },
  {
   "cell_type": "markdown",
   "metadata": {
    "slideshow": {
     "slide_type": "slide"
    }
   },
   "source": [
    "Here's how it should look like:"
   ]
  },
  {
   "cell_type": "code",
   "execution_count": 42,
   "metadata": {
    "collapsed": true,
    "slideshow": {
     "slide_type": "fragment"
    }
   },
   "outputs": [],
   "source": [
    "def foo(value, a=None):\n",
    "    if a == None:\n",
    "        a = []\n",
    "    \n",
    "    a.append(value)\n",
    "    return a"
   ]
  },
  {
   "cell_type": "code",
   "execution_count": 43,
   "metadata": {
    "collapsed": false,
    "slideshow": {
     "slide_type": "fragment"
    }
   },
   "outputs": [
    {
     "name": "stdout",
     "output_type": "stream",
     "text": [
      "[1]\n"
     ]
    }
   ],
   "source": [
    "print(foo(1))"
   ]
  },
  {
   "cell_type": "code",
   "execution_count": 44,
   "metadata": {
    "collapsed": false,
    "slideshow": {
     "slide_type": "fragment"
    }
   },
   "outputs": [
    {
     "name": "stdout",
     "output_type": "stream",
     "text": [
      "[2]\n"
     ]
    }
   ],
   "source": [
    "print(foo(2))"
   ]
  },
  {
   "cell_type": "code",
   "execution_count": 45,
   "metadata": {
    "collapsed": false,
    "slideshow": {
     "slide_type": "fragment"
    }
   },
   "outputs": [
    {
     "name": "stdout",
     "output_type": "stream",
     "text": [
      "['yeah!!!']\n"
     ]
    }
   ],
   "source": [
    "print(foo('yeah!!!'))"
   ]
  },
  {
   "cell_type": "markdown",
   "metadata": {
    "slideshow": {
     "slide_type": "slide"
    }
   },
   "source": [
    "### variable-length arguments"
   ]
  },
  {
   "cell_type": "code",
   "execution_count": 46,
   "metadata": {
    "collapsed": false,
    "slideshow": {
     "slide_type": "fragment"
    }
   },
   "outputs": [
    {
     "name": "stdout",
     "output_type": "stream",
     "text": [
      "Hello World\n",
      "x\n",
      "1\n",
      "hello\n",
      "3.1415\n",
      "20\n"
     ]
    },
    {
     "ename": "TypeError",
     "evalue": "foo() takes at least 1 argument (0 given)",
     "output_type": "error",
     "traceback": [
      "\u001b[0;31m---------------------------------------------------------------------------\u001b[0m",
      "\u001b[0;31mTypeError\u001b[0m                                 Traceback (most recent call last)",
      "\u001b[0;32m<ipython-input-46-09acbea4f0ce>\u001b[0m in \u001b[0;36m<module>\u001b[0;34m()\u001b[0m\n\u001b[1;32m      6\u001b[0m \u001b[0mfoo\u001b[0m\u001b[0;34m(\u001b[0m\u001b[0;34m'Hello World'\u001b[0m\u001b[0;34m)\u001b[0m\u001b[0;34m\u001b[0m\u001b[0m\n\u001b[1;32m      7\u001b[0m \u001b[0mfoo\u001b[0m\u001b[0;34m(\u001b[0m\u001b[0;34m'x'\u001b[0m\u001b[0;34m,\u001b[0m \u001b[0;36m1\u001b[0m\u001b[0;34m,\u001b[0m \u001b[0;34m'hello'\u001b[0m\u001b[0;34m,\u001b[0m \u001b[0;36m3.1415\u001b[0m\u001b[0;34m,\u001b[0m \u001b[0;34m'20'\u001b[0m\u001b[0;34m)\u001b[0m\u001b[0;34m\u001b[0m\u001b[0m\n\u001b[0;32m----> 8\u001b[0;31m \u001b[0mfoo\u001b[0m\u001b[0;34m(\u001b[0m\u001b[0;34m)\u001b[0m\u001b[0;34m\u001b[0m\u001b[0m\n\u001b[0m",
      "\u001b[0;31mTypeError\u001b[0m: foo() takes at least 1 argument (0 given)"
     ]
    }
   ],
   "source": [
    "def foo(arg1, *argtuple):\n",
    "    print(arg1)\n",
    "    for arg in argtuple:\n",
    "        print(arg)\n",
    "    \n",
    "foo('Hello World')\n",
    "foo('x', 1, 'hello', 3.1415, '20')\n",
    "foo()"
   ]
  },
  {
   "cell_type": "markdown",
   "metadata": {
    "slideshow": {
     "slide_type": "slide"
    }
   },
   "source": [
    "- Procedural programming seems to be enourmos improvement over imperative programming.\n",
    "    - code maintainance\n",
    "    - debugging\n",
    "    - code encapsulation (the user doesn't need to know about the implementation)\n",
    "    - code sharing \n",
    "- It's natural to ask *Can we extend the concept of procedural programming?*\n",
    "- Yes, it's called <font, color='red'> **Functional Programming**</font>"
   ]
  },
  {
   "cell_type": "markdown",
   "metadata": {
    "collapsed": true,
    "slideshow": {
     "slide_type": "slide"
    }
   },
   "source": [
    "## What is Functional Programming?\n"
   ]
  },
  {
   "cell_type": "markdown",
   "metadata": {
    "slideshow": {
     "slide_type": "slide"
    }
   },
   "source": [
    "## Everything is a function!"
   ]
  },
  {
   "cell_type": "markdown",
   "metadata": {
    "slideshow": {
     "slide_type": "fragment"
    }
   },
   "source": [
    "## Everything?"
   ]
  },
  {
   "cell_type": "markdown",
   "metadata": {
    "slideshow": {
     "slide_type": "fragment"
    }
   },
   "source": [
    "## Everything!!!"
   ]
  },
  {
   "cell_type": "markdown",
   "metadata": {
    "slideshow": {
     "slide_type": "fragment"
    }
   },
   "source": [
    "## Even loops?"
   ]
  },
  {
   "cell_type": "markdown",
   "metadata": {
    "slideshow": {
     "slide_type": "fragment"
    }
   },
   "source": [
    "## Even loops!!!"
   ]
  },
  {
   "cell_type": "markdown",
   "metadata": {
    "slideshow": {
     "slide_type": "slide"
    }
   },
   "source": [
    "- Functional programming (FP) surely sounds like a radical approach.\n",
    "- But not for a software engineer or a mathematician ($\\lambda$-calculus).\n",
    "- Especially mathematicians deal with expressions like this all the time: $\\qquad f(g(h(x)))$\n",
    "- Mapping such a construct into a source code surely has it's advantages.\n",
    "- Python was never designed with FP in mind.\n",
    "- That being said, FP works quite well in Python.\n",
    "- However, it probably requires more than just an hour to dive into the details.\n"
   ]
  },
  {
   "cell_type": "markdown",
   "metadata": {
    "slideshow": {
     "slide_type": "slide"
    }
   },
   "source": [
    "### Let's go back to out little program...\n",
    " "
   ]
  },
  {
   "cell_type": "markdown",
   "metadata": {
    "slideshow": {
     "slide_type": "fragment"
    }
   },
   "source": [
    "- We structured our code with the help of functions/methods/procedures.\n",
    "- In principle we can extend our code by adding new methods.\n",
    "- And we caneven share code by exchanging functions.\n",
    "- Now a colleague is interested in our little vector program.\n",
    "- He wants to do some vector calculations as well.\n",
    "- Unfortunately, he doesn't have vectors with cartesian coordinates but polar coordinates.  \n",
    "- No problem! We write a function that converts all the polar coordinate tuples to cartesian coordinate tuples."
   ]
  },
  {
   "cell_type": "markdown",
   "metadata": {
    "slideshow": {
     "slide_type": "slide"
    }
   },
   "source": [
    "- That works fine.\n",
    "- Until a third colleague comes along.\n",
    "- He now has both, vectors in cartesian coordinates and vectors in polar coordinates.\n",
    "- On top of the conversion function we need to test now what kind of vector we have.\n",
    "- It looks like that most of the code is now about conversion and book-keeping.\n",
    "- But this is really beside the actual goal: Vector Operations.\n",
    "- And you wonder, there should be a better way to organize the code..."
   ]
  },
  {
   "cell_type": "markdown",
   "metadata": {
    "slideshow": {
     "slide_type": "slide"
    }
   },
   "source": [
    "- In principle a vector is a vector is a vector.\n",
    "- Its behavior invariant under the choice of a coordinate system.\n",
    "- Can we actually map a vector (its properties) in our code?\n",
    "- What if we coulf define an **object** that is a 2dim vector?\n",
    "- <font, color='red'>**Object Oriented Programming**</font> does exactly that."
   ]
  },
  {
   "cell_type": "markdown",
   "metadata": {
    "slideshow": {
     "slide_type": "slide"
    }
   },
   "source": [
    "## Object Oriented Programming"
   ]
  },
  {
   "cell_type": "markdown",
   "metadata": {
    "slideshow": {
     "slide_type": "slide"
    }
   },
   "source": [
    "### Let's start with some theory\n",
    "- **Objects** are representations of real world *things*: cars, dogs, bank accounts, vectors, ...\n",
    "- Objects share two main characteristics: **data** and **behaviour**\n",
    "    - Cars have data: number of wheels, velocity, power, weight,...\n",
    "    - Cars have behaviors: drive, brake, move windshield wipers, honk, ...\n",
    "- What about vectors?\n",
    "    -data: length, direction\n",
    "    -behavior: scale by a factor, add another vector,..."
   ]
  },
  {
   "cell_type": "markdown",
   "metadata": {
    "slideshow": {
     "slide_type": "slide"
    }
   },
   "source": [
    "- In Python we don't talk about data and behaviour.\n",
    "- data $\\Rightarrow$ **attributes** \n",
    "- behaviour $\\Rightarrow$ **methods**\n",
    "- We define the blueprint of an object in a **class**.\n",
    "- Let's have a look at some syntax and then the concept should get clearer."
   ]
  },
  {
   "cell_type": "markdown",
   "metadata": {
    "slideshow": {
     "slide_type": "slide"
    }
   },
   "source": [
    "### In Python we define a `class` like this:"
   ]
  },
  {
   "cell_type": "code",
   "execution_count": 47,
   "metadata": {
    "collapsed": true,
    "slideshow": {
     "slide_type": "fragment"
    }
   },
   "outputs": [],
   "source": [
    "class Vehicle:\n",
    "    pass"
   ]
  },
  {
   "cell_type": "markdown",
   "metadata": {
    "slideshow": {
     "slide_type": "fragment"
    }
   },
   "source": [
    "Obviously this class is pretty boring. Nevertheless, we can now create **objects** of **type Vehicle** by instanciating:"
   ]
  },
  {
   "cell_type": "code",
   "execution_count": 48,
   "metadata": {
    "collapsed": false,
    "slideshow": {
     "slide_type": "fragment"
    }
   },
   "outputs": [
    {
     "name": "stdout",
     "output_type": "stream",
     "text": [
      "<__main__.Vehicle instance at 0x10d8fb0e0>\n"
     ]
    }
   ],
   "source": [
    "car = Vehicle()\n",
    "print(car)"
   ]
  },
  {
   "cell_type": "markdown",
   "metadata": {
    "slideshow": {
     "slide_type": "fragment"
    }
   },
   "source": [
    "We just created an object that we called `car` of type `Vehicle`."
   ]
  },
  {
   "cell_type": "markdown",
   "metadata": {
    "slideshow": {
     "slide_type": "slide"
    }
   },
   "source": [
    "- Let's add some attributes and methods to our class.\n",
    "- In order to initialize an object with a set of attributes we use the `__init__` method:"
   ]
  },
  {
   "cell_type": "code",
   "execution_count": 49,
   "metadata": {
    "collapsed": true,
    "slideshow": {
     "slide_type": "fragment"
    }
   },
   "outputs": [],
   "source": [
    "class Vehicle():\n",
    "    def __init__(self, number_of_wheels, number_of_seats, max_velocity):\n",
    "        self.number_of_wheels = number_of_wheels\n",
    "        self.number_of_seats = number_of_seats\n",
    "        self.max_velocity = max_velocity"
   ]
  },
  {
   "cell_type": "code",
   "execution_count": 50,
   "metadata": {
    "collapsed": false,
    "slideshow": {
     "slide_type": "fragment"
    }
   },
   "outputs": [
    {
     "name": "stdout",
     "output_type": "stream",
     "text": [
      "4\n",
      "2\n"
     ]
    }
   ],
   "source": [
    "car = Vehicle(4, 5, 200.0)\n",
    "bike = Vehicle(2, 2, 50.0)\n",
    "print car.number_of_wheels\n",
    "print bike.number_of_seats"
   ]
  },
  {
   "cell_type": "markdown",
   "metadata": {
    "slideshow": {
     "slide_type": "fragment"
    }
   },
   "source": [
    "- We call `__init__` the constructor method.\n",
    "- `self` represents the instance of the class. \n",
    "- By using the `self` keyword we can access the attributes and methods of the class in python.\n",
    "- Let's add some more methods."
   ]
  },
  {
   "cell_type": "code",
   "execution_count": 51,
   "metadata": {
    "collapsed": true,
    "slideshow": {
     "slide_type": "slide"
    }
   },
   "outputs": [],
   "source": [
    "class Vehicle():\n",
    "    def __init__(self, number_of_wheels, number_of_seats, max_velocity):\n",
    "        self.number_of_wheels = number_of_wheels\n",
    "        self.number_of_seats = number_of_seats\n",
    "        self.max_velocity = max_velocity\n",
    "        \n",
    "    def get_max_velocity(self):\n",
    "        return self.max_velocity\n",
    "    \n",
    "    def make_noise(self):\n",
    "        print(\"vrummmmm\")"
   ]
  },
  {
   "cell_type": "code",
   "execution_count": 52,
   "metadata": {
    "collapsed": false,
    "slideshow": {
     "slide_type": "fragment"
    }
   },
   "outputs": [
    {
     "name": "stdout",
     "output_type": "stream",
     "text": [
      "200.0\n",
      "200.0\n",
      "vrummmmm\n"
     ]
    }
   ],
   "source": [
    "car = Vehicle(4, 5, 200.0)\n",
    "print car.get_max_velocity()\n",
    "print car.max_velocity\n",
    "car.make_noise()"
   ]
  },
  {
   "cell_type": "markdown",
   "metadata": {
    "slideshow": {
     "slide_type": "fragment"
    }
   },
   "source": [
    "- We have know now all the basics to actually implement our vector problem $\\Rightarrow$"
   ]
  },
  {
   "cell_type": "code",
   "execution_count": 53,
   "metadata": {
    "collapsed": true,
    "slideshow": {
     "slide_type": "slide"
    }
   },
   "outputs": [],
   "source": [
    "from math import cos, sin, sqrt\n",
    "\n",
    "class MyVector():\n",
    "    def __init__(self, x=None, y=None, r=None, phi=None):\n",
    "        if x == None or y == None:\n",
    "            self.x = r * cos(phi)\n",
    "            self.y = r * sin(phi)\n",
    "        else:\n",
    "            self.x = x\n",
    "            self.y = y\n",
    "        \n",
    "    def get_length(self):\n",
    "        return sqrt(self.x * self.x + self.y * self.y)\n",
    "    \n",
    "    def scale_vector(self, a):\n",
    "        self.x *= a\n",
    "        self.y *= a\n",
    "        \n",
    "    def add_vector(self, vector):\n",
    "        self.x += vector.x\n",
    "        self.y += vector.y"
   ]
  },
  {
   "cell_type": "code",
   "execution_count": 54,
   "metadata": {
    "collapsed": false,
    "slideshow": {
     "slide_type": "fragment"
    }
   },
   "outputs": [
    {
     "name": "stdout",
     "output_type": "stream",
     "text": [
      "22.360679775\n",
      "10.0\n",
      "24.2927463184\n"
     ]
    }
   ],
   "source": [
    "v1 = MyVector(10, 20)\n",
    "print v1.get_length()\n",
    "v2 = MyVector(r=10, phi=2.7)\n",
    "print v2.get_length()\n",
    "v1.add_vector(v2)\n",
    "print v1.get_length()"
   ]
  },
  {
   "cell_type": "markdown",
   "metadata": {
    "slideshow": {
     "slide_type": "slide"
    }
   },
   "source": [
    "- That's almost everything we had defined before.\n",
    "- But now I do not have to deal with coordinates.\n",
    "- The implementation is nicely hidden.\n",
    "- But how do we define vector arithmetics?\n",
    "- We would need to tell Python how to add two MyVector objects."
   ]
  },
  {
   "cell_type": "code",
   "execution_count": 55,
   "metadata": {
    "collapsed": false,
    "slideshow": {
     "slide_type": "fragment"
    }
   },
   "outputs": [
    {
     "ename": "TypeError",
     "evalue": "unsupported operand type(s) for +: 'instance' and 'instance'",
     "output_type": "error",
     "traceback": [
      "\u001b[0;31m---------------------------------------------------------------------------\u001b[0m",
      "\u001b[0;31mTypeError\u001b[0m                                 Traceback (most recent call last)",
      "\u001b[0;32m<ipython-input-55-0e604cf78aa6>\u001b[0m in \u001b[0;36m<module>\u001b[0;34m()\u001b[0m\n\u001b[1;32m      1\u001b[0m \u001b[0mv1\u001b[0m \u001b[0;34m=\u001b[0m \u001b[0mMyVector\u001b[0m\u001b[0;34m(\u001b[0m\u001b[0;36m10\u001b[0m\u001b[0;34m,\u001b[0m \u001b[0;36m20\u001b[0m\u001b[0;34m)\u001b[0m\u001b[0;34m\u001b[0m\u001b[0m\n\u001b[1;32m      2\u001b[0m \u001b[0mv2\u001b[0m \u001b[0;34m=\u001b[0m \u001b[0mMyVector\u001b[0m\u001b[0;34m(\u001b[0m\u001b[0;36m20\u001b[0m\u001b[0;34m,\u001b[0m \u001b[0;36m10\u001b[0m\u001b[0;34m)\u001b[0m\u001b[0;34m\u001b[0m\u001b[0m\n\u001b[0;32m----> 3\u001b[0;31m \u001b[0mv3\u001b[0m \u001b[0;34m=\u001b[0m \u001b[0mv1\u001b[0m \u001b[0;34m+\u001b[0m \u001b[0mv2\u001b[0m\u001b[0;34m\u001b[0m\u001b[0m\n\u001b[0m",
      "\u001b[0;31mTypeError\u001b[0m: unsupported operand type(s) for +: 'instance' and 'instance'"
     ]
    }
   ],
   "source": [
    "v1 = MyVector(10, 20)\n",
    "v2 = MyVector(20, 10)\n",
    "v3 = v1 + v2\n"
   ]
  },
  {
   "cell_type": "code",
   "execution_count": 64,
   "metadata": {
    "collapsed": true,
    "slideshow": {
     "slide_type": "slide"
    }
   },
   "outputs": [],
   "source": [
    "from math import cos, sin, sqrt\n",
    "\n",
    "class MyVector():\n",
    "    def __init__(self, x=None, y=None, r=None, phi=None):\n",
    "        if x == None or y == None:\n",
    "            self.x = r * cos(phi)\n",
    "            self.y = r * sin(phi)\n",
    "        else:\n",
    "            self.x = x\n",
    "            self.y = y\n",
    "        \n",
    "    def get_length(self):\n",
    "        return sqrt(self.x * self.x + self.y * self.y)\n",
    "    \n",
    "    def scale_vector(self, a):\n",
    "        self.x *= a\n",
    "        self.y *= a\n",
    "        \n",
    "    def add_vector(self, vector):\n",
    "        self.x += vector.x\n",
    "        self.y += vector.y\n",
    "        \n",
    "    def __add__(self, other):\n",
    "        x = self.x + other.x\n",
    "        y = self.y + other.y\n",
    "        return MyVector(x, y)"
   ]
  },
  {
   "cell_type": "code",
   "execution_count": 63,
   "metadata": {
    "collapsed": false,
    "slideshow": {
     "slide_type": "fragment"
    }
   },
   "outputs": [
    {
     "name": "stdout",
     "output_type": "stream",
     "text": [
      "(-10, 10)\n"
     ]
    }
   ],
   "source": [
    "v1 = MyVector(10, 20)\n",
    "v2 = MyVector(20, 10)\n",
    "v3 = v1 + v2\n",
    "print(v3.x, v3.y)"
   ]
  },
  {
   "cell_type": "markdown",
   "metadata": {
    "slideshow": {
     "slide_type": "slide"
    }
   },
   "source": [
    "- Wait, there's more!\n",
    "- We found a way to map *real* objects in source code.\n",
    "- But so far we have ignored a possible hierarchical relation among objects.\n",
    "- For example: animal -> mammal -> cat\n",
    "- It looks like in such a hierarchy some properties are shared and some are not.\n",
    "- It's not too far-fetched to assume that this sort of hierarchies makes also sense in programming.\n",
    "- It's called **inheritance** and it works in Python like this:"
   ]
  },
  {
   "cell_type": "code",
   "execution_count": 71,
   "metadata": {
    "collapsed": true,
    "slideshow": {
     "slide_type": "slide"
    }
   },
   "outputs": [],
   "source": [
    "from math import cos, sin, sqrt\n",
    "\n",
    "class MyVector():\n",
    "    def __init__(self, x, y):\n",
    "        self.x = x\n",
    "        self.y = y\n",
    "        \n",
    "    def get_length(self):\n",
    "        return sqrt(self.x * self.x + self.y * self.y)\n",
    "    \n",
    "    def scale_vector(self, a):\n",
    "        self.x *= a\n",
    "        self.y *= a\n",
    "        \n",
    "    def add_vector(self, vector):\n",
    "        self.x += vector.x\n",
    "        self.y += vector.y\n",
    "        \n",
    "    def __add__(self, other):\n",
    "        x = self.x + other.x\n",
    "        y = self.y + other.y\n",
    "        return MyVector(x, y)\n",
    "    \n",
    "    def get_r(self):\n",
    "        return self.get_length()"
   ]
  },
  {
   "cell_type": "code",
   "execution_count": 72,
   "metadata": {
    "collapsed": false,
    "slideshow": {
     "slide_type": "slide"
    }
   },
   "outputs": [],
   "source": [
    "class MyPolarVector(MyVector):\n",
    "    def __init__(self, r, phi):\n",
    "        self.r = r\n",
    "        MyVector.__init__(self, r * cos(phi), r * sin(phi))\n",
    "    \n",
    "    def get_length(self):\n",
    "        print \"inside MyPolarVector\"\n",
    "        return self.r\n",
    "    \n",
    "    def get_r(self):\n",
    "        return self.r"
   ]
  },
  {
   "cell_type": "code",
   "execution_count": 73,
   "metadata": {
    "collapsed": false,
    "slideshow": {
     "slide_type": "fragment"
    }
   },
   "outputs": [
    {
     "name": "stdout",
     "output_type": "stream",
     "text": [
      "25.1428922049\n",
      "22.360679775\n",
      "inside MyPolarVector\n",
      "12\n",
      "25.1428922049\n"
     ]
    }
   ],
   "source": [
    "v1 = MyVector(10, 20)\n",
    "v2 = MyPolarVector(12, 2.7)\n",
    "\n",
    "print (v1 + v2).get_r()\n",
    "\n",
    "print v1.get_length()\n",
    "print v2.get_length()\n",
    "print (v1 + v2).get_length()\n",
    "\n"
   ]
  },
  {
   "cell_type": "markdown",
   "metadata": {
    "slideshow": {
     "slide_type": "slide"
    }
   },
   "source": [
    "- That was a crash course in OO programming.\n",
    "- We haven't touched topics like data encapsulation, Class and instance variables, ...\n",
    "- Unfortunately, this is beyond the scope of our lecture.\n",
    "- Let's compare the programming paradigms and finish with another OO example."
   ]
  },
  {
   "cell_type": "markdown",
   "metadata": {
    "slideshow": {
     "slide_type": "slide"
    }
   },
   "source": [
    "# Comparing the four programming paradigms"
   ]
  },
  {
   "cell_type": "markdown",
   "metadata": {
    "slideshow": {
     "slide_type": "slide"
    }
   },
   "source": [
    "**Imperative**: Computation is performed as a direct change to program state. This style is especially useful when manipulating data structures and produces elegant, but simple, code."
   ]
  },
  {
   "cell_type": "code",
   "execution_count": 74,
   "metadata": {
    "collapsed": false,
    "slideshow": {
     "slide_type": "fragment"
    }
   },
   "outputs": [
    {
     "name": "stdout",
     "output_type": "stream",
     "text": [
      "15\n"
     ]
    }
   ],
   "source": [
    "my_list = [1, 2, 3, 4, 5]\n",
    "sum = 0\n",
    "for x in my_list:\n",
    "    sum += x\n",
    "print(sum)"
   ]
  },
  {
   "cell_type": "markdown",
   "metadata": {
    "slideshow": {
     "slide_type": "fragment"
    }
   },
   "source": [
    "The focus of imperative programming is on how a program operates. It changes state information as needed in order to achieve a goal. "
   ]
  },
  {
   "cell_type": "markdown",
   "metadata": {
    "slideshow": {
     "slide_type": "slide"
    }
   },
   "source": [
    "**Procedural**: Tasks are treated as step-by-step iterations where common tasks are placed in functions that are called as needed. This coding style favors iteration, sequencing, selection, and modularization."
   ]
  },
  {
   "cell_type": "code",
   "execution_count": 75,
   "metadata": {
    "collapsed": false,
    "slideshow": {
     "slide_type": "fragment"
    }
   },
   "outputs": [
    {
     "name": "stdout",
     "output_type": "stream",
     "text": [
      "15\n"
     ]
    }
   ],
   "source": [
    "def do_add(a_list):\n",
    "    sum = 0\n",
    "    if type(a_list) is list:\n",
    "        for x in a_list:\n",
    "            sum += x\n",
    "    return sum\n",
    "my_list = [1, 2, 3, 4, 5]\n",
    "print(do_add(my_list))"
   ]
  },
  {
   "cell_type": "markdown",
   "metadata": {
    "slideshow": {
     "slide_type": "fragment"
    }
   },
   "source": [
    "- The procedural style relies on procedure calls to create modularized code.\n",
    "- It seeks to simplify the application code by creating small pieces that a developer can view easily. \n",
    "- Even though the procedural coding style is an older form of application development, it’s still a viable approach when a task lends itself to step-by-step execution."
   ]
  },
  {
   "cell_type": "markdown",
   "metadata": {
    "slideshow": {
     "slide_type": "slide"
    }
   },
   "source": [
    "**Functional**: Any form of state or mutable data are avoided. The main advantage of this approach is that there aren’t any side effects to consider. In addition, this coding style lends itself well to parallel processing because there is no state to consider. "
   ]
  },
  {
   "cell_type": "code",
   "execution_count": 76,
   "metadata": {
    "collapsed": false,
    "slideshow": {
     "slide_type": "fragment"
    }
   },
   "outputs": [
    {
     "name": "stdout",
     "output_type": "stream",
     "text": [
      "15\n"
     ]
    }
   ],
   "source": [
    "import functools\n",
    "my_list = [1, 2, 3, 4, 5]\n",
    "def add(x, y):\n",
    "    return (x + y)\n",
    "sum = functools.reduce(add, my_list) \n",
    "# calculates add(add(add(add(1, 2), 3), 4), 5)\n",
    "\n",
    "print(sum)"
   ]
  },
  {
   "cell_type": "markdown",
   "metadata": {
    "slideshow": {
     "slide_type": "fragment"
    }
   },
   "source": [
    "The functional coding style treats everything like a math equation. \n"
   ]
  },
  {
   "cell_type": "markdown",
   "metadata": {
    "slideshow": {
     "slide_type": "slide"
    }
   },
   "source": [
    "**Object-oriented**: Relies on data fields that are treated as objects and manipulated only through prescribed methods. Python doesn’t fully support this coding form because it can’t implement features such as data hiding. This coding style also favors code reuse."
   ]
  },
  {
   "cell_type": "code",
   "execution_count": 77,
   "metadata": {
    "collapsed": false,
    "slideshow": {
     "slide_type": "fragment"
    }
   },
   "outputs": [
    {
     "name": "stdout",
     "output_type": "stream",
     "text": [
      "15\n"
     ]
    }
   ],
   "source": [
    "class ChangeList:\n",
    "    def __init__(self, a_list):\n",
    "        self.my_list = []\n",
    "        if type(a_list) is list:\n",
    "            self.my_list = a_list\n",
    "    def do_add(self):\n",
    "        self.my_sum = 0\n",
    "        for x in self.my_list:\n",
    "            self.my_sum += x\n",
    "create_sum_obj = ChangeList([1, 2, 3, 4, 5])\n",
    "create_sum_obj.do_add()\n",
    "print(create_sum_obj.my_sum)"
   ]
  },
  {
   "cell_type": "markdown",
   "metadata": {
    "slideshow": {
     "slide_type": "fragment"
    }
   },
   "source": [
    "The object-oriented coding style is all about increasing the ability of applications to reuse code and making code easier to understand. The encapsulation that object-orientation provides allows developers to treat code as a black box. "
   ]
  },
  {
   "cell_type": "markdown",
   "metadata": {
    "collapsed": true,
    "slideshow": {
     "slide_type": "slide"
    }
   },
   "source": [
    "# Summary"
   ]
  },
  {
   "cell_type": "markdown",
   "metadata": {
    "slideshow": {
     "slide_type": "slide"
    }
   },
   "source": [
    "- We have seen various approaches to structure source code.\n",
    "- Python leaves it up to you to choose and pick.\n",
    "- None of them is right or wrong.\n",
    "- The choice strongly depends on your problem.\n",
    "- You need something 'quick and dirty': Imperative Style\n",
    "- You are working on a larger project that maybe even involves several developers: OO\n",
    "- Another way to look at it, is how data is being manipulated.\n",
    "- You have a fixed set of operations on things: OO\n",
    "- You have a fixed set of things: Functional/Procedural Programming"
   ]
  },
  {
   "cell_type": "markdown",
   "metadata": {
    "slideshow": {
     "slide_type": "slide"
    }
   },
   "source": [
    "# Exercise"
   ]
  },
  {
   "cell_type": "markdown",
   "metadata": {
    "slideshow": {
     "slide_type": "slide"
    }
   },
   "source": [
    "- In this week's exercise you are supposed to get familiar with OOP.\n",
    "- We want to write the code for a **linked list**.\n",
    "- A linked list is a container like lists, arrays, dictionaries, etc.\n",
    "- The speciality of a linked list is that each element in a list (called **node**) contains also a pointer to the following element.\n",
    "\n",
    "![title](python-linked-lists-1.png)"
   ]
  },
  {
   "cell_type": "markdown",
   "metadata": {
    "slideshow": {
     "slide_type": "slide"
    }
   },
   "source": [
    "- Here is the code for a node:"
   ]
  },
  {
   "cell_type": "code",
   "execution_count": 78,
   "metadata": {
    "collapsed": true,
    "slideshow": {
     "slide_type": "fragment"
    }
   },
   "outputs": [],
   "source": [
    "class ListNode:  \n",
    "    def __init__(self, data):\n",
    "        \"constructor to initiate this object\"\n",
    "\n",
    "        # store data\n",
    "        self.data = data\n",
    "\n",
    "        # store reference (next item)\n",
    "        self.next = None\n",
    "        return\n",
    "\n",
    "    def contains_value(self, value):\n",
    "        \"method to compare the value with the node data\"\n",
    "        if self.data == value:\n",
    "            return True\n",
    "        else:\n",
    "            return False"
   ]
  },
  {
   "cell_type": "code",
   "execution_count": 79,
   "metadata": {
    "collapsed": true,
    "slideshow": {
     "slide_type": "fragment"
    }
   },
   "outputs": [],
   "source": [
    "node1 = ListNode('data point 1')\n",
    "node2 = ListNode([15, 16 , 3.14])\n",
    "node3 = ListNode(16.6)"
   ]
  },
  {
   "cell_type": "markdown",
   "metadata": {
    "slideshow": {
     "slide_type": "slide"
    }
   },
   "source": [
    "No we want to write a class that represents a linked list. We identify the following methods as required:\n",
    "- `__init__()`: initiate an object\n",
    "- `list_length()`: return the number of nodes\n",
    "- `output_list()`: outputs the node values\n",
    "- `add_list_item()`: add a node at the end of the list\n",
    "- `unordered_search()`: search the list for the nodes with a specified value\n",
    "- `remove_list_item_by_id()`: remove the node according to its id"
   ]
  },
  {
   "cell_type": "code",
   "execution_count": null,
   "metadata": {
    "collapsed": true,
    "slideshow": {
     "slide_type": "slide"
    }
   },
   "outputs": [],
   "source": [
    "class SingleLinkedList:  \n",
    "    def __init__(self):\n",
    "        \"constructor to initiate this object\"\n",
    "\n",
    "        self.head = None\n",
    "        self.tail = None\n",
    "        return\n",
    "    \n",
    "    def list_length(self):\n",
    "        pass\n",
    "    \n",
    "    def output_list(self):\n",
    "        pass\n",
    "    \n",
    "    def add_list_item(self, item):\n",
    "        pass\n",
    "    \n",
    "    def unordered_search(self):\n",
    "        pass\n",
    "    \n",
    "    def remove_list_item_by_id(self):\n",
    "        pass"
   ]
  },
  {
   "cell_type": "code",
   "execution_count": null,
   "metadata": {
    "collapsed": true
   },
   "outputs": [],
   "source": []
  }
 ],
 "metadata": {
  "celltoolbar": "Slideshow",
  "kernelspec": {
   "display_name": "Python [default]",
   "language": "python",
   "name": "python2"
  },
  "language_info": {
   "codemirror_mode": {
    "name": "ipython",
    "version": 2
   },
   "file_extension": ".py",
   "mimetype": "text/x-python",
   "name": "python",
   "nbconvert_exporter": "python",
   "pygments_lexer": "ipython2",
   "version": "2.7.13"
  },
  "livereveal": {
   "start_slideshow_at": "selected",
   "theme": "solarized",
   "transition": "fade"
  }
 },
 "nbformat": 4,
 "nbformat_minor": 2
}
